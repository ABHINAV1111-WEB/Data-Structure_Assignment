{
  "nbformat": 4,
  "nbformat_minor": 0,
  "metadata": {
    "colab": {
      "provenance": []
    },
    "kernelspec": {
      "name": "python3",
      "display_name": "Python 3"
    },
    "language_info": {
      "name": "python"
    }
  },
  "cells": [
    {
      "cell_type": "markdown",
      "source": [
        "# Data Types and Structures Questions/Answers:\n",
        "\n",
        "**1. What are data structures, and why are they important?\n",
        "\n",
        "Ans.**\n",
        "\n",
        "Data structures are fundamental components used to store, organize, and manage data in a way that enables efficient access and modification. They are crucial in computer science and programming because they provide a means to handle data in ways that enhance performance and scalability.\n",
        "\n",
        "**Here are some commonly used data structures:**\n",
        "\n",
        "**Arrays:** A collection of elements identified by index or key, stored in contiguous memory locations.\n",
        "\n",
        "Linked Lists: A sequence of elements, where each element points to the next, allowing for efficient insertion and deletion.\n",
        "\n",
        "Stacks: A collection of elements with last-in, first-out (LIFO) access.\n",
        "\n",
        "Queues: A collection of elements with first-in, first-out (FIFO) access.\n",
        "\n",
        "Trees: A hierarchical data structure consisting of nodes, with a single root node and sub-nodes branching out from it.\n",
        "\n",
        "Graphs: A collection of nodes connected by edges, useful for representing relationships or networks.\n",
        "\n",
        "Hash Tables: A data structure that maps keys to values for efficient data retrieval.\n",
        "\n",
        "**Why are data structures important?**\n",
        "\n",
        "Efficiency: Proper use of data structures can significantly optimize the time complexity of algorithms, making programs run faster and more efficiently.\n",
        "\n",
        "Organization: They provide a systematic way to organize data, which is crucial for data retrieval, storage, and management.\n",
        "\n",
        "Memory Management: Efficient data structures can help manage and reduce memory usage, which is vital for large-scale applications.\n",
        "\n",
        "Reusability: Data structures provide reusable building blocks for developing software, saving time and effort in coding.\n",
        "\n",
        "Scalability: They help applications scale by efficiently handling large volumes of data, ensuring performance does not degrade as data grows.\n",
        "\n",
        "Problem Solving: Many computational problems can be solved more effectively using appropriate data structures, leading to elegant and efficient solutions.\n"
      ],
      "metadata": {
        "id": "2fPKuOa8BkKw"
      }
    },
    {
      "cell_type": "markdown",
      "source": [
        "**2. Explain the difference between mutable and immutable data types with examples.**\n",
        "\n",
        "**Ans:**\n",
        "\n",
        "**Mutable vs. Immutable Data Types:**\n",
        "\n",
        "\n",
        "**Mutable Data Types:**\n",
        "Mutable data types are those that can be changed after their creation. You can modify, add, or remove elements without creating a new object.\n",
        "\n",
        "Examples of Mutable Data Types:\n",
        "\n",
        "1. List\n",
        "\n"
      ],
      "metadata": {
        "id": "2g6C7PGiD_Xb"
      }
    },
    {
      "cell_type": "code",
      "source": [
        "my_list = [1, 2, 3]\n",
        "print(\"Original list:\", my_list)\n",
        "my_list.append(4)  # Adding an element\n",
        "print(\"Modified list:\", my_list)\n"
      ],
      "metadata": {
        "colab": {
          "base_uri": "https://localhost:8080/"
        },
        "id": "WavyJkFQFKre",
        "outputId": "255e5aba-d234-4671-a42d-5177f6c0e9a6"
      },
      "execution_count": null,
      "outputs": [
        {
          "output_type": "stream",
          "name": "stdout",
          "text": [
            "Original list: [1, 2, 3]\n",
            "Modified list: [1, 2, 3, 4]\n"
          ]
        }
      ]
    },
    {
      "cell_type": "markdown",
      "source": [
        "2. Dictionary"
      ],
      "metadata": {
        "id": "Sr1ilTCIFTOc"
      }
    },
    {
      "cell_type": "code",
      "source": [
        "my_dict = {'a': 1, 'b': 2}\n",
        "print(\"Original dictionary:\", my_dict)\n",
        "my_dict['c'] = 3  # Adding a new key-value pair\n",
        "print(\"Modified dictionary:\", my_dict)\n"
      ],
      "metadata": {
        "colab": {
          "base_uri": "https://localhost:8080/"
        },
        "id": "7jFsCtmpFWqk",
        "outputId": "f10b211f-8f65-41ee-83f6-d0c46d8dd876"
      },
      "execution_count": null,
      "outputs": [
        {
          "output_type": "stream",
          "name": "stdout",
          "text": [
            "Original dictionary: {'a': 1, 'b': 2}\n",
            "Modified dictionary: {'a': 1, 'b': 2, 'c': 3}\n"
          ]
        }
      ]
    },
    {
      "cell_type": "markdown",
      "source": [
        "3. Set"
      ],
      "metadata": {
        "id": "nKkjnHupFojy"
      }
    },
    {
      "cell_type": "code",
      "source": [
        "my_set = {1, 2, 3}\n",
        "print(\"Original set:\", my_set)\n",
        "my_set.add(4)  # Adding an element\n",
        "print(\"Modified set:\", my_set)\n"
      ],
      "metadata": {
        "colab": {
          "base_uri": "https://localhost:8080/"
        },
        "id": "xnxwOC0AFspZ",
        "outputId": "38461bcc-4649-4bbe-d54f-1ebe7189b496"
      },
      "execution_count": null,
      "outputs": [
        {
          "output_type": "stream",
          "name": "stdout",
          "text": [
            "Original set: {1, 2, 3}\n",
            "Modified set: {1, 2, 3, 4}\n"
          ]
        }
      ]
    },
    {
      "cell_type": "markdown",
      "source": [
        "**Immutable Data Types:**\n",
        "Immutable data types are those that cannot be changed after their creation. Any modification will result in the creation of a new object.\n",
        "\n",
        "Examples of Immutable Data Types:\n",
        "\n",
        "1. String"
      ],
      "metadata": {
        "id": "il-cqW9eF137"
      }
    },
    {
      "cell_type": "code",
      "source": [
        "my_string = \"Hello\"\n",
        "print(\"Original string:\", my_string)\n",
        "new_string = my_string + \" World\"  # Concatenation creates a new string\n",
        "print(\"New string:\", new_string)\n"
      ],
      "metadata": {
        "colab": {
          "base_uri": "https://localhost:8080/"
        },
        "id": "yKKt5JsgF66E",
        "outputId": "f7493557-b573-4d47-8074-2ec3f2ec6674"
      },
      "execution_count": null,
      "outputs": [
        {
          "output_type": "stream",
          "name": "stdout",
          "text": [
            "Original string: Hello\n",
            "New string: Hello World\n"
          ]
        }
      ]
    },
    {
      "cell_type": "markdown",
      "source": [
        "2. Tuple"
      ],
      "metadata": {
        "id": "4QOHOqpmF80S"
      }
    },
    {
      "cell_type": "code",
      "source": [
        "my_tuple = (1, 2, 3)\n",
        "print(\"Original tuple:\", my_tuple)\n",
        "new_tuple = my_tuple + (4,)  # Concatenation creates a new tuple\n",
        "print(\"New tuple:\", new_tuple)\n"
      ],
      "metadata": {
        "colab": {
          "base_uri": "https://localhost:8080/"
        },
        "id": "Iu5jWN44GA_F",
        "outputId": "771a3c53-ba65-49ac-aa04-d32aa34a63e5"
      },
      "execution_count": null,
      "outputs": [
        {
          "output_type": "stream",
          "name": "stdout",
          "text": [
            "Original tuple: (1, 2, 3)\n",
            "New tuple: (1, 2, 3, 4)\n"
          ]
        }
      ]
    },
    {
      "cell_type": "markdown",
      "source": [
        "3. frozenset"
      ],
      "metadata": {
        "id": "u-0jvIeBGFMj"
      }
    },
    {
      "cell_type": "code",
      "source": [
        "my_frozenset = frozenset([1, 2, 3])\n",
        "print(\"Original frozenset:\", my_frozenset)\n",
        "new_frozenset = my_frozenset | frozenset([4])  # Union creates a new frozenset\n",
        "print(\"New frozenset:\", new_frozenset)\n"
      ],
      "metadata": {
        "colab": {
          "base_uri": "https://localhost:8080/"
        },
        "id": "r1_Ce9pPGJDL",
        "outputId": "031eca37-baee-446d-94de-61f3222fca3c"
      },
      "execution_count": null,
      "outputs": [
        {
          "output_type": "stream",
          "name": "stdout",
          "text": [
            "Original frozenset: frozenset({1, 2, 3})\n",
            "New frozenset: frozenset({1, 2, 3, 4})\n"
          ]
        }
      ]
    },
    {
      "cell_type": "markdown",
      "source": [
        "**Key Differences:**\n",
        "\n",
        "Mutability: Mutable data types can be changed after creation, while immutable data types cannot be modified once created.\n",
        "\n",
        "Memory Usage: Modifying a mutable data type does not create a new object, whereas modifying an immutable data type results in a new object being created.\n",
        "\n",
        "Usage: Mutable data types are useful when you need to make frequent updates or changes, while immutable data types are preferred when you need to ensure the data remains constant."
      ],
      "metadata": {
        "id": "Ja2HY26SHUq9"
      }
    },
    {
      "cell_type": "markdown",
      "source": [
        "**3. What are the main differences between lists and tuples in Python?**\n",
        "\n",
        "**Ans:**\n",
        "Main Differences Between Lists and Tuples in Python.\n",
        "\n",
        "1. Mutability:\n",
        "\n",
        "Lists: Mutable, which means you can change, add, or remove elements after the list is created.\n",
        "\n",
        "Tuples: Immutable, which means once a tuple is created, you cannot change its elements\n",
        "\n",
        "2. Syntax:\n",
        "\n",
        "Lists: Defined using square brackets [ ].\n",
        "\n",
        "Tuples: Defined using parentheses ( ).\n",
        "\n",
        "3. Performance:\n",
        "\n",
        "Lists: Generally slower than tuples due to their mutable nature, which involves additional overhead for memory management.\n",
        "\n",
        "Tuples: Faster and more memory-efficient due to their immutability.\n",
        "\n",
        "4. Use Cases:\n",
        "\n",
        "Lists: Used when you need a collection of items that can be modified.\n",
        "\n",
        "Tuples: Used when you need a collection of items that should remain constant and not be modified.\n",
        "\n",
        "5. Methods:\n",
        "\n",
        "Lists: Have a wide variety of methods such as append(), remove(), pop(), sort(), etc.\n",
        "\n",
        "Tuples: Have fewer methods available, primarily count() and index().\n",
        "\n",
        "6. Nested Structures:\n",
        "\n",
        "Lists: Can contain other lists (nested lists) as elements.\n",
        "\n",
        "Tuples: Can contain other tuples (nested tuples) as elements.\n",
        "\n",
        "7. Type Flexibility:\n",
        "\n",
        "Lists: Elements can be of different data types.\n",
        "\n",
        "Tuples: Elements can also be of different data types."
      ],
      "metadata": {
        "id": "pk680TgXHxk5"
      }
    },
    {
      "cell_type": "markdown",
      "source": [
        "4. **Describe how dictionaries store data?**\n",
        "\n",
        "Ans:\n",
        "\n",
        "Dictionaries in Python are powerful data structures that store data in key-value pairs. They are implemented using a hash table, which allows for fast access, insertion, and deletion of key-value pairs.\n",
        "\n",
        "Key Concepts:\n",
        "\n",
        "Hash Function:\n",
        "\n",
        "A hash function takes a key (which can be of any immutable data type) and converts it into an integer called a hash code. This hash code is then used to determine where the key-value pair should be stored in the hash table.\n",
        "\n",
        "Buckets:\n",
        "\n",
        "The hash table is composed of an array of buckets. Each bucket can hold multiple key-value pairs, and the hash code determines which bucket a key-value pair is placed into.\n",
        "\n",
        "Collision Handling:\n",
        "\n",
        "Since different keys can produce the same hash code (a situation called a collision), Python uses a technique called \"open addressing\" or \"chaining\" to handle collisions. In open addressing, if a bucket is already occupied, the algorithm searches for the next available bucket. In chaining, each bucket contains a list (or chain) of key-value pairs that share the same hash code.\n",
        "\n",
        "Dynamic Resizing:\n",
        "\n",
        "As more key-value pairs are added to the dictionary, the hash table may need to be resized to maintain efficiency. Python's dictionary implementation automatically resizes the hash table by creating a new, larger array of buckets and rehashing all the existing keys.\n",
        "\n",
        "Advantages of Using Dictionaries\n",
        "Fast Access: Dictionary lookups (retrieving a value by its key) are very fast due to the underlying hash table structure.\n",
        "\n",
        "Dynamic: Dictionaries can grow and shrink dynamically as items are added or removed.\n",
        "\n",
        "Flexible Keys: Keys can be of any immutable data type, such as strings, numbers, or tuples.\n",
        "\n",
        "Order Preservation: Since Python 3.7, dictionaries maintain the order of key-value pairs as they were added.\n",
        "\n",
        "Here's a simple example to illustrate how dictionaries work in Python:\n"
      ],
      "metadata": {
        "id": "tCGaWwwVJVAa"
      }
    },
    {
      "cell_type": "code",
      "source": [
        "# Creating a dictionary\n",
        "my_dict = {\n",
        "    'name': 'Alice',\n",
        "    'age': 30,\n",
        "    'city': 'New York'\n",
        "}\n",
        "\n",
        "# Accessing a value using its key\n",
        "print(my_dict['name'])  # Output: Alice\n",
        "\n",
        "# Adding a new key-value pair\n",
        "my_dict['profession'] = 'Engineer'\n",
        "print(my_dict)  # Output: {'name': 'Alice', 'age': 30, 'city': 'New York', 'profession': 'Engineer'}\n",
        "\n",
        "# Removing a key-value pair\n",
        "del my_dict['age']\n",
        "print(my_dict)  # Output: {'name': 'Alice', 'city': 'New York', 'profession': 'Engineer'}\n"
      ],
      "metadata": {
        "colab": {
          "base_uri": "https://localhost:8080/"
        },
        "id": "fod3JDNjKHiG",
        "outputId": "c0430560-017d-4d83-9a93-8aae84ea7906"
      },
      "execution_count": null,
      "outputs": [
        {
          "output_type": "stream",
          "name": "stdout",
          "text": [
            "Alice\n",
            "{'name': 'Alice', 'age': 30, 'city': 'New York', 'profession': 'Engineer'}\n",
            "{'name': 'Alice', 'city': 'New York', 'profession': 'Engineer'}\n"
          ]
        }
      ]
    },
    {
      "cell_type": "markdown",
      "source": [
        "**5. Why might you use a set instead of a list in Python ?**\n",
        "\n",
        "**Ans:**\n",
        "\n",
        "**Use of Set{} instead of a List in Python:**\n",
        "\n",
        "1. Uniqueness\n",
        "Set: Automatically ensures that all elements are unique. If you add duplicate elements to a set, it will only keep one of them."
      ],
      "metadata": {
        "id": "2v2Qt-3wKKfF"
      }
    },
    {
      "cell_type": "code",
      "source": [
        "my_set = {1, 2, 2, 3}\n",
        "print(my_set)  # Output: {1, 2, 3}\n"
      ],
      "metadata": {
        "colab": {
          "base_uri": "https://localhost:8080/"
        },
        "id": "uR0SKEScM_91",
        "outputId": "1323515c-e46b-4489-dd7e-765e2472e1e7"
      },
      "execution_count": null,
      "outputs": [
        {
          "output_type": "stream",
          "name": "stdout",
          "text": [
            "{1, 2, 3}\n"
          ]
        }
      ]
    },
    {
      "cell_type": "markdown",
      "source": [
        "List: Can contain duplicate elements."
      ],
      "metadata": {
        "id": "cGK76v2eNCeZ"
      }
    },
    {
      "cell_type": "code",
      "source": [
        "my_list = [1, 2, 2, 3]\n",
        "print(my_list)  # Output: [1, 2, 2, 3]"
      ],
      "metadata": {
        "colab": {
          "base_uri": "https://localhost:8080/"
        },
        "id": "HohuXt2uNIIR",
        "outputId": "9bda8a36-70a7-43ff-d7d4-1c4e4ac0d82f"
      },
      "execution_count": null,
      "outputs": [
        {
          "output_type": "stream",
          "name": "stdout",
          "text": [
            "[1, 2, 2, 3]\n"
          ]
        }
      ]
    },
    {
      "cell_type": "markdown",
      "source": [
        "2. Performance for Membership Testing:\n",
        "\n",
        "Set: Offers O(1) average time complexity for membership tests due to its hash-based implementation."
      ],
      "metadata": {
        "id": "qDGg7bFoNNPu"
      }
    },
    {
      "cell_type": "code",
      "source": [
        "my_set = {1, 2, 3}\n",
        "print(2 in my_set)  # Output: True\n"
      ],
      "metadata": {
        "colab": {
          "base_uri": "https://localhost:8080/"
        },
        "id": "HSseztE2NQyX",
        "outputId": "fcb3d25c-82a2-41d5-8132-54c2b39b66c6"
      },
      "execution_count": null,
      "outputs": [
        {
          "output_type": "stream",
          "name": "stdout",
          "text": [
            "True\n"
          ]
        }
      ]
    },
    {
      "cell_type": "markdown",
      "source": [
        "List: Offers O(n) time complexity for membership tests because it may need to check each element."
      ],
      "metadata": {
        "id": "bSfBcxRuNTlD"
      }
    },
    {
      "cell_type": "code",
      "source": [
        "my_list = [1, 2, 3]\n",
        "print(2 in my_list)  # Output: True\n"
      ],
      "metadata": {
        "colab": {
          "base_uri": "https://localhost:8080/"
        },
        "id": "o4a8gvVaNVl8",
        "outputId": "4c328a90-9c4e-444a-ec01-f9c67d038e15"
      },
      "execution_count": null,
      "outputs": [
        {
          "output_type": "stream",
          "name": "stdout",
          "text": [
            "True\n"
          ]
        }
      ]
    },
    {
      "cell_type": "markdown",
      "source": [
        "3. Set Operations:\n",
        "\n",
        "Set: Supports mathematical set operations like union, intersection, difference, and symmetric difference, which can be useful for various algorithms."
      ],
      "metadata": {
        "id": "OJyjc7N5NZjv"
      }
    },
    {
      "cell_type": "code",
      "source": [
        "set_a = {1, 2, 3}\n",
        "set_b = {3, 4, 5}\n",
        "print(set_a & set_b)  # Intersection: {3}\n",
        "print(set_a | set_b)  # Union: {1, 2, 3, 4, 5}\n",
        "print(set_a - set_b)  # Difference: {1, 2}\n",
        "print(set_a ^ set_b)  # Symmetric Difference: {1, 2, 4, 5}\n"
      ],
      "metadata": {
        "colab": {
          "base_uri": "https://localhost:8080/"
        },
        "id": "vfYpw4t5NcpT",
        "outputId": "879139e7-e5d1-4be5-bd6c-da184b06a3a7"
      },
      "execution_count": null,
      "outputs": [
        {
          "output_type": "stream",
          "name": "stdout",
          "text": [
            "{3}\n",
            "{1, 2, 3, 4, 5}\n",
            "{1, 2}\n",
            "{1, 2, 4, 5}\n"
          ]
        }
      ]
    },
    {
      "cell_type": "markdown",
      "source": [
        "4. Mutable Nature:\n",
        "\n",
        "Set: Like lists, sets are mutable, meaning you can add and remove elements. However, you cannot change individual items directly as you would with lists."
      ],
      "metadata": {
        "id": "zm3HlRK9NjOt"
      }
    },
    {
      "cell_type": "code",
      "source": [
        "my_set = {1, 2, 3}\n",
        "my_set.add(4)  # Adding an element\n",
        "my_set.remove(2)  # Removing an element\n",
        "print(my_set)  # Output: {1, 3, 4}\n"
      ],
      "metadata": {
        "colab": {
          "base_uri": "https://localhost:8080/"
        },
        "id": "3ZDSz4N9NmDp",
        "outputId": "19f6920f-4e96-45f1-fd9f-03eb7c3e5456"
      },
      "execution_count": null,
      "outputs": [
        {
          "output_type": "stream",
          "name": "stdout",
          "text": [
            "{1, 3, 4}\n"
          ]
        }
      ]
    },
    {
      "cell_type": "markdown",
      "source": [
        "List: Mutable and allows for changing individual items."
      ],
      "metadata": {
        "id": "tYgQ2o62Noyb"
      }
    },
    {
      "cell_type": "code",
      "source": [
        "my_list = [1, 2, 3]\n",
        "my_list[0] = 10  # Modifying an element\n",
        "print(my_list)  # Output: [10, 2, 3]\n"
      ],
      "metadata": {
        "colab": {
          "base_uri": "https://localhost:8080/"
        },
        "id": "JERyIHIENqp2",
        "outputId": "bd9016d8-b2cc-4e3a-b29b-f9c01a466b56"
      },
      "execution_count": null,
      "outputs": [
        {
          "output_type": "stream",
          "name": "stdout",
          "text": [
            "[10, 2, 3]\n"
          ]
        }
      ]
    },
    {
      "cell_type": "markdown",
      "source": [
        "5. Order Preservation:\n",
        "\n",
        "Set: Unordered collection, meaning the elements do not have a defined order. The iteration order can differ from insertion order."
      ],
      "metadata": {
        "id": "vVLVVFOIN1Mm"
      }
    },
    {
      "cell_type": "code",
      "source": [
        "my_set = {1, 2, 3}\n",
        "print(my_set)  # Output: {1, 2, 3} (order may vary)\n"
      ],
      "metadata": {
        "colab": {
          "base_uri": "https://localhost:8080/"
        },
        "id": "2cYT2g4DN4an",
        "outputId": "77378f1d-3d95-493b-a00d-6c2d167340bf"
      },
      "execution_count": null,
      "outputs": [
        {
          "output_type": "stream",
          "name": "stdout",
          "text": [
            "{1, 2, 3}\n"
          ]
        }
      ]
    },
    {
      "cell_type": "markdown",
      "source": [
        "List: Ordered collection, maintaining the order of elements as they were inserted."
      ],
      "metadata": {
        "id": "4I_iYD3aN7Iv"
      }
    },
    {
      "cell_type": "code",
      "source": [
        "my_list = [1, 2, 3]\n",
        "print(my_list)  # Output: [1, 2, 3]\n"
      ],
      "metadata": {
        "colab": {
          "base_uri": "https://localhost:8080/"
        },
        "id": "KBsCuNHXN85b",
        "outputId": "d062fa90-a630-4fb4-c12d-0bb62aad3e1c"
      },
      "execution_count": null,
      "outputs": [
        {
          "output_type": "stream",
          "name": "stdout",
          "text": [
            "[1, 2, 3]\n"
          ]
        }
      ]
    },
    {
      "cell_type": "markdown",
      "source": [
        "Summary:\n",
        "\n",
        "Use a set when you need to ensure unique elements, require fast membership testing, or need to perform set operations.\n",
        "\n",
        "Use a list when you need ordered elements, allow duplicates, or need to modify individual items."
      ],
      "metadata": {
        "id": "vkk5ue8UOC_m"
      }
    },
    {
      "cell_type": "markdown",
      "source": [
        "**6.  What is a string in Python, and how is it different from a list?**\n",
        "\n",
        "Ans:\n",
        "\n",
        "A string in Python is a sequence of characters enclosed within single quotes (' '), double quotes (\" \"), or triple quotes (''' ''' or \"\"\" \"\"\").\n",
        "Example:\n",
        "\n"
      ],
      "metadata": {
        "id": "tzPeugIhOcu8"
      }
    },
    {
      "cell_type": "code",
      "source": [
        "string_11 = \"pwskills\"\n",
        "print(string_11)"
      ],
      "metadata": {
        "colab": {
          "base_uri": "https://localhost:8080/"
        },
        "id": "9YGyqfKnPao2",
        "outputId": "cd192676-f51e-4b84-e8d5-56197798132b"
      },
      "execution_count": null,
      "outputs": [
        {
          "output_type": "stream",
          "name": "stdout",
          "text": [
            "pwskills\n"
          ]
        }
      ]
    },
    {
      "cell_type": "markdown",
      "source": [
        "1. Mutability:\n",
        "\n",
        "String: Immutable (cannot be changed after creation).\n"
      ],
      "metadata": {
        "id": "4FRBH4qcP-0D"
      }
    },
    {
      "cell_type": "code",
      "source": [
        "my_string = \"Hello\"\n",
        "# my_string[0] = 'h'  # This will raise a TypeError\n"
      ],
      "metadata": {
        "id": "hzIFBS-qQG1z"
      },
      "execution_count": null,
      "outputs": []
    },
    {
      "cell_type": "markdown",
      "source": [
        "List: Mutable (can be changed after creation)."
      ],
      "metadata": {
        "id": "3s7ni0WDQJ4u"
      }
    },
    {
      "cell_type": "code",
      "source": [
        "my_list = [1, 2, 3]\n",
        "my_list[0] = 10  # Modifying an element\n",
        "print(my_list)\n"
      ],
      "metadata": {
        "colab": {
          "base_uri": "https://localhost:8080/"
        },
        "id": "Kldg8meLQM8J",
        "outputId": "3c06d22f-5a00-471a-cef2-3f88a87afbb7"
      },
      "execution_count": null,
      "outputs": [
        {
          "output_type": "stream",
          "name": "stdout",
          "text": [
            "[10, 2, 3]\n"
          ]
        }
      ]
    },
    {
      "cell_type": "markdown",
      "source": [
        "2. Elements:\n",
        "\n",
        "String: Consists of characters."
      ],
      "metadata": {
        "id": "cZcr0IITQdAz"
      }
    },
    {
      "cell_type": "code",
      "source": [
        "my_string = \"Hello\"\n",
        "print(my_string)"
      ],
      "metadata": {
        "colab": {
          "base_uri": "https://localhost:8080/"
        },
        "id": "6ivDhQzhQgI9",
        "outputId": "8dafd8e2-80d4-45cd-e9d8-d1d4d89f622d"
      },
      "execution_count": null,
      "outputs": [
        {
          "output_type": "stream",
          "name": "stdout",
          "text": [
            "Hello\n"
          ]
        }
      ]
    },
    {
      "cell_type": "markdown",
      "source": [
        "List: Can contain elements of different data types."
      ],
      "metadata": {
        "id": "k0alPC3HQlV-"
      }
    },
    {
      "cell_type": "code",
      "source": [
        "my_list = [1, \"two\", 3.0]\n",
        "print(my_list)"
      ],
      "metadata": {
        "colab": {
          "base_uri": "https://localhost:8080/"
        },
        "id": "B92l-7t0QqCa",
        "outputId": "4120de3c-28fe-4edd-fdda-81f521dff273"
      },
      "execution_count": null,
      "outputs": [
        {
          "output_type": "stream",
          "name": "stdout",
          "text": [
            "[1, 'two', 3.0]\n"
          ]
        }
      ]
    },
    {
      "cell_type": "markdown",
      "source": [
        "3. Syntax:\n",
        "\n",
        "String: Defined using quotes."
      ],
      "metadata": {
        "id": "dDhNMAf9Q0I9"
      }
    },
    {
      "cell_type": "code",
      "source": [
        "my_string = \"Hello, World!\"\n"
      ],
      "metadata": {
        "id": "7SrdQ45_Q2k8"
      },
      "execution_count": null,
      "outputs": []
    },
    {
      "cell_type": "markdown",
      "source": [
        "List: Defined using square brackets."
      ],
      "metadata": {
        "id": "eigVqyVYQ6IH"
      }
    },
    {
      "cell_type": "code",
      "source": [
        "my_list = [1, 2, 3, 4, 5]\n",
        "print(my_list)"
      ],
      "metadata": {
        "colab": {
          "base_uri": "https://localhost:8080/"
        },
        "id": "wKZXUke_Q9VA",
        "outputId": "a3c652fe-b035-4976-e5a1-e3c5f41f88ad"
      },
      "execution_count": null,
      "outputs": [
        {
          "output_type": "stream",
          "name": "stdout",
          "text": [
            "[1, 2, 3, 4, 5]\n"
          ]
        }
      ]
    },
    {
      "cell_type": "markdown",
      "source": [
        "4. Methods:\n",
        "\n",
        "String: Has string-specific methods like lower(), upper(), split(), join(), etc."
      ],
      "metadata": {
        "id": "DjXWrD0ORDCZ"
      }
    },
    {
      "cell_type": "code",
      "source": [
        "my_string = \"Hello\"\n",
        "print(my_string.lower())  # Output: hello\n"
      ],
      "metadata": {
        "colab": {
          "base_uri": "https://localhost:8080/"
        },
        "id": "EuchrnwzRIMe",
        "outputId": "e4b91910-9287-4883-b22f-87443eaffb96"
      },
      "execution_count": null,
      "outputs": [
        {
          "output_type": "stream",
          "name": "stdout",
          "text": [
            "hello\n"
          ]
        }
      ]
    },
    {
      "cell_type": "markdown",
      "source": [
        "List: Has list-specific methods like append(), remove(), pop(), sort(), etc."
      ],
      "metadata": {
        "id": "_tLFsjOlRKPP"
      }
    },
    {
      "cell_type": "code",
      "source": [
        "my_list = [3, 1, 2]\n",
        "my_list.sort()\n",
        "print(my_list)  # Output: [1, 2, 3]\n"
      ],
      "metadata": {
        "colab": {
          "base_uri": "https://localhost:8080/"
        },
        "id": "_DETQfMXRNRh",
        "outputId": "25e7dee0-bbe2-4ff9-c49f-9d09f9bbecad"
      },
      "execution_count": null,
      "outputs": [
        {
          "output_type": "stream",
          "name": "stdout",
          "text": [
            "[1, 2, 3]\n"
          ]
        }
      ]
    },
    {
      "cell_type": "markdown",
      "source": [
        "**7. How do tuples ensure data integrity in Python ? **\n",
        "\n",
        "**Ans:**\n",
        "\n",
        "Tuples in Python are a type of immutable sequence, meaning that once a tuple is created, its elements cannot be modified, added, or removed. This immutability ensures data integrity in several ways:\n",
        "\n",
        "1. Preventing Unintended Modifications:\n",
        "\n",
        "Immutable Nature: Tuples cannot be altered once created, preventing accidental changes to the data."
      ],
      "metadata": {
        "id": "WvxKPUChRRT4"
      }
    },
    {
      "cell_type": "code",
      "source": [
        "my_tuple = (1, 2, 3)\n",
        "my_tuple[0] = 10  # This will raise a TypeError"
      ],
      "metadata": {
        "colab": {
          "base_uri": "https://localhost:8080/",
          "height": 162
        },
        "id": "nvr_lFOSSZcp",
        "outputId": "13cb2d7c-9884-4d62-dcb1-c0490aa02dc1"
      },
      "execution_count": null,
      "outputs": [
        {
          "output_type": "error",
          "ename": "TypeError",
          "evalue": "'tuple' object does not support item assignment",
          "traceback": [
            "\u001b[0;31m---------------------------------------------------------------------------\u001b[0m",
            "\u001b[0;31mTypeError\u001b[0m                                 Traceback (most recent call last)",
            "\u001b[0;32m<ipython-input-31-a7a650d04ee7>\u001b[0m in \u001b[0;36m<cell line: 0>\u001b[0;34m()\u001b[0m\n\u001b[1;32m      1\u001b[0m \u001b[0mmy_tuple\u001b[0m \u001b[0;34m=\u001b[0m \u001b[0;34m(\u001b[0m\u001b[0;36m1\u001b[0m\u001b[0;34m,\u001b[0m \u001b[0;36m2\u001b[0m\u001b[0;34m,\u001b[0m \u001b[0;36m3\u001b[0m\u001b[0;34m)\u001b[0m\u001b[0;34m\u001b[0m\u001b[0;34m\u001b[0m\u001b[0m\n\u001b[0;32m----> 2\u001b[0;31m \u001b[0mmy_tuple\u001b[0m\u001b[0;34m[\u001b[0m\u001b[0;36m0\u001b[0m\u001b[0;34m]\u001b[0m \u001b[0;34m=\u001b[0m \u001b[0;36m10\u001b[0m  \u001b[0;31m# This will raise a TypeError\u001b[0m\u001b[0;34m\u001b[0m\u001b[0;34m\u001b[0m\u001b[0m\n\u001b[0m",
            "\u001b[0;31mTypeError\u001b[0m: 'tuple' object does not support item assignment"
          ]
        }
      ]
    },
    {
      "cell_type": "markdown",
      "source": [
        "2. Ensuring Consistency:\n",
        "\n",
        "Reliable Data: Since tuples cannot be modified, they provide a consistent snapshot of the data at a specific point in time."
      ],
      "metadata": {
        "id": "WzMQaZkWSwzU"
      }
    },
    {
      "cell_type": "code",
      "source": [
        "def get_coordinates():\n",
        "    return (40.7128, -74.0060)  # Latitude and Longitude of New York City\n",
        "coordinates = get_coordinates()\n",
        "print(coordinates)"
      ],
      "metadata": {
        "colab": {
          "base_uri": "https://localhost:8080/"
        },
        "id": "GiIflg52S0ic",
        "outputId": "761f4265-fe32-4dff-cdc5-857899563162"
      },
      "execution_count": null,
      "outputs": [
        {
          "output_type": "stream",
          "name": "stdout",
          "text": [
            "(40.7128, -74.006)\n"
          ]
        }
      ]
    },
    {
      "cell_type": "markdown",
      "source": [
        "3. Safe Hashing:\n",
        "Hashable: Tuples can be used as keys in dictionaries or elements in sets because they are hashable. This ensures the uniqueness and integrity of the keys."
      ],
      "metadata": {
        "id": "emSVLumFToch"
      }
    },
    {
      "cell_type": "code",
      "source": [
        "my_dict = {('a', 1): \"value1\", ('b', 2): \"value2\"}\n",
        "print(my_dict[('a', 1)])  # Output: value1\n"
      ],
      "metadata": {
        "colab": {
          "base_uri": "https://localhost:8080/"
        },
        "id": "X-ugzE-XTuhi",
        "outputId": "c5657230-d1ad-499d-c53c-1fdb04359fd7"
      },
      "execution_count": null,
      "outputs": [
        {
          "output_type": "stream",
          "name": "stdout",
          "text": [
            "value1\n"
          ]
        }
      ]
    },
    {
      "cell_type": "markdown",
      "source": [
        "4. Efficient Memory Usage:\n",
        "Memory Efficiency: Tuples are generally more memory-efficient than lists due to their immutability. This efficiency can contribute to data integrity by minimizing memory-related issues."
      ],
      "metadata": {
        "id": "F2O2dnSkTw0Z"
      }
    },
    {
      "cell_type": "code",
      "source": [
        "my_tuple = (1, 2, 3, 4, 5)\n",
        "my_tuple"
      ],
      "metadata": {
        "colab": {
          "base_uri": "https://localhost:8080/"
        },
        "id": "BUxnRCodT0gA",
        "outputId": "a0f32253-1b2a-4d7a-f426-5346c9cb9779"
      },
      "execution_count": null,
      "outputs": [
        {
          "output_type": "execute_result",
          "data": {
            "text/plain": [
              "(1, 2, 3, 4, 5)"
            ]
          },
          "metadata": {},
          "execution_count": 39
        }
      ]
    },
    {
      "cell_type": "markdown",
      "source": [
        "5. Readability and Intent:\n",
        "Clear Intent: Using a tuple conveys that the data should not be changed, enhancing code readability and reducing the risk of unintended data modification."
      ],
      "metadata": {
        "id": "71P17HUMUBB_"
      }
    },
    {
      "cell_type": "code",
      "source": [
        "person_info = (\"Alice\", \"Engineer\", 30)  # Name, Profession, Age\n"
      ],
      "metadata": {
        "id": "k1L88VMAUHX9"
      },
      "execution_count": null,
      "outputs": []
    },
    {
      "cell_type": "markdown",
      "source": [
        "**8. What is a hash table, and how does it relate to dictionaries in Python ?**\n",
        "\n",
        "**Ans:**\n",
        "A hash table is a data structure that stores data in an associative manner. It maps keys to values for efficient data retrieval. The core concept behind a hash table is the use of a hash function to compute an index into an array of buckets or slots, from which the desired value can be found.\n",
        "\n",
        "How Hash Tables Work:\n",
        "\n",
        "1. Hash Function:\n",
        "A hash function takes an input (or \"key\") and returns an integer, known as the hash code. This hash code determines where the key-value pair will be stored in the hash table."
      ],
      "metadata": {
        "id": "V-BKc_hIUUE0"
      }
    },
    {
      "cell_type": "code",
      "source": [
        "def hash_function(key):\n",
        "    return hash(key) % size"
      ],
      "metadata": {
        "id": "hhXwcxw-Vn39"
      },
      "execution_count": null,
      "outputs": []
    },
    {
      "cell_type": "markdown",
      "source": [
        "2. Buckets:\n",
        "\n",
        "The hash table consists of an array of buckets. Each bucket can hold multiple key-value pairs that hash to the same index."
      ],
      "metadata": {
        "id": "UNyuisoPV1uH"
      }
    },
    {
      "cell_type": "markdown",
      "source": [
        "3. Collision Handling:\n",
        "\n",
        "When multiple keys hash to the same bucket, a collision occurs. Common methods to handle collisions include chaining (storing a list of pairs in each bucket) and open addressing (finding another slot within the table).\n",
        "\n",
        "\n",
        "Key Concepts of Python Dictionaries\n",
        "\n",
        "1. Key-Value Pairs:\n",
        "\n",
        "A dictionary stores data in key-value pairs.\n"
      ],
      "metadata": {
        "id": "3-5UoFOjWMCo"
      }
    },
    {
      "cell_type": "code",
      "source": [
        "my_dict = {'name': 'Alice', 'age': 30}\n",
        "print(my_dict)"
      ],
      "metadata": {
        "colab": {
          "base_uri": "https://localhost:8080/"
        },
        "id": "6tS-eSMsWaWA",
        "outputId": "e19d2d6f-c626-44fa-9a20-65ce15004161"
      },
      "execution_count": null,
      "outputs": [
        {
          "output_type": "stream",
          "name": "stdout",
          "text": [
            "{'name': 'Alice', 'age': 30}\n"
          ]
        }
      ]
    },
    {
      "cell_type": "markdown",
      "source": [
        "2. Hashing:\n",
        "\n",
        "Python uses a built-in hash function to hash the keys and determine where they are stored in the hash table."
      ],
      "metadata": {
        "id": "vr5Vw17aWkJU"
      }
    },
    {
      "cell_type": "code",
      "source": [
        "key_hash = hash('name')\n",
        "print(key_hash)"
      ],
      "metadata": {
        "colab": {
          "base_uri": "https://localhost:8080/"
        },
        "id": "z_198MfnWpNZ",
        "outputId": "1c42cb01-47ec-48e1-fe4b-39a48071d659"
      },
      "execution_count": null,
      "outputs": [
        {
          "output_type": "stream",
          "name": "stdout",
          "text": [
            "-2088651396648046745\n"
          ]
        }
      ]
    },
    {
      "cell_type": "markdown",
      "source": [
        "3. Efficient Retrieval:\n",
        "\n",
        "Dictionary lookups, insertions, and deletions are performed in average O(1) time complexity due to the underlying hash table."
      ],
      "metadata": {
        "id": "dT-SQED6XEZy"
      }
    },
    {
      "cell_type": "code",
      "source": [
        "value = my_dict['name']  # Fast retrieval\n",
        "print(value)"
      ],
      "metadata": {
        "colab": {
          "base_uri": "https://localhost:8080/"
        },
        "id": "cbLE39XcXIPv",
        "outputId": "d49fd3fa-957d-493b-92dc-c08f641076d3"
      },
      "execution_count": null,
      "outputs": [
        {
          "output_type": "stream",
          "name": "stdout",
          "text": [
            "Alice\n"
          ]
        }
      ]
    },
    {
      "cell_type": "markdown",
      "source": [
        "4. Dynamic Resizing:\n",
        "\n",
        "As more key-value pairs are added, the hash table dynamically resizes and rehashes the existing keys to maintain efficient performance."
      ],
      "metadata": {
        "id": "AIQTJrAfXUe9"
      }
    },
    {
      "cell_type": "markdown",
      "source": [
        " 9. Can lists contain different data types in Python ?\n",
        "\n",
        "Ans:\n",
        "\n",
        "**Yes**, lists in Python can contain elements of different data types. This flexibility allows you to store a mix of integers, floats, strings, objects, and even other lists within a single list.\n",
        "\n",
        " -> List is a powerful and versatile tool in Python.\n",
        "\n",
        "Example\n",
        "Here’s an example demonstrating a list with mixed data types:"
      ],
      "metadata": {
        "id": "jNG-hzkPYKQq"
      }
    },
    {
      "cell_type": "code",
      "source": [
        "# Creating a list with different data types\n",
        "my_list = [1, \"two\", 3.0, [4, 5], {\"key\": \"value\"}]\n",
        "\n",
        "# Accessing elements of the list\n",
        "print(\"Integer:\", my_list[0])         # Output: Integer: 1\n",
        "print(\"String:\", my_list[1])          # Output: String: two\n",
        "print(\"Float:\", my_list[2])           # Output: Float: 3.0\n",
        "print(\"Nested List:\", my_list[3])     # Output: Nested List: [4, 5]\n",
        "print(\"Dictionary:\", my_list[4])      # Output: Dictionary: {'key': 'value'}\n"
      ],
      "metadata": {
        "colab": {
          "base_uri": "https://localhost:8080/"
        },
        "id": "jRkTQgbQYtzz",
        "outputId": "4adb1ae9-6093-4992-d4c8-08541c736fec"
      },
      "execution_count": null,
      "outputs": [
        {
          "output_type": "stream",
          "name": "stdout",
          "text": [
            "Integer: 1\n",
            "String: two\n",
            "Float: 3.0\n",
            "Nested List: [4, 5]\n",
            "Dictionary: {'key': 'value'}\n"
          ]
        }
      ]
    },
    {
      "cell_type": "markdown",
      "source": [
        "**Key Points:**\n",
        "\n",
        "Flexibility: Lists can store elements of different data types, making them versatile for various applications."
      ],
      "metadata": {
        "id": "r8xJnAaLY60I"
      }
    },
    {
      "cell_type": "code",
      "source": [
        "mixed_list = [123, \"apple\", 45.6, [1, 2, 3], {\"name\": \"Alice\"}]\n",
        "print(mixed_list)"
      ],
      "metadata": {
        "colab": {
          "base_uri": "https://localhost:8080/"
        },
        "id": "Fed9dIF2Y-sf",
        "outputId": "ce6f45a9-fd53-4daa-ed73-868919dbf18a"
      },
      "execution_count": null,
      "outputs": [
        {
          "output_type": "stream",
          "name": "stdout",
          "text": [
            "[123, 'apple', 45.6, [1, 2, 3], {'name': 'Alice'}]\n"
          ]
        }
      ]
    },
    {
      "cell_type": "markdown",
      "source": [
        "Dynamic Nature: Elements in a list can be accessed, modified, and manipulated, regardless of their data type."
      ],
      "metadata": {
        "id": "G09n5MqNZDvj"
      }
    },
    {
      "cell_type": "code",
      "source": [
        "# Modifying elements\n",
        "mixed_list[0] = \"updated\"\n",
        "print(mixed_list)"
      ],
      "metadata": {
        "colab": {
          "base_uri": "https://localhost:8080/"
        },
        "id": "Ik2ZgsRxZIeK",
        "outputId": "e28f64d6-321a-4379-f5d7-aae309a92b87"
      },
      "execution_count": null,
      "outputs": [
        {
          "output_type": "stream",
          "name": "stdout",
          "text": [
            "['updated', 'apple', 45.6, [1, 2, 3], {'name': 'Alice'}]\n"
          ]
        }
      ]
    },
    {
      "cell_type": "markdown",
      "source": [
        "Storage of Complex Data: Lists can store complex data structures such as dictionaries, other lists, and objects."
      ],
      "metadata": {
        "id": "7RiHK-AiZPbz"
      }
    },
    {
      "cell_type": "code",
      "source": [
        "complex_list = [\n",
        "    {\"id\": 1, \"name\": \"Ajay\"},\n",
        "    [\"A\", \"B\", \"C\"],\n",
        "    (10, 20)\n",
        "]\n",
        "print(complex_list)"
      ],
      "metadata": {
        "colab": {
          "base_uri": "https://localhost:8080/"
        },
        "id": "2SI8UfySZSYR",
        "outputId": "861f5b8b-b6ea-43f8-82c9-c58f179911a8"
      },
      "execution_count": null,
      "outputs": [
        {
          "output_type": "stream",
          "name": "stdout",
          "text": [
            "[{'id': 1, 'name': 'Ajay'}, ['A', 'B', 'C'], (10, 20)]\n"
          ]
        }
      ]
    },
    {
      "cell_type": "markdown",
      "source": [
        "**10. Explain why strings are immutable in Python ?**\n",
        "\n",
        "**Ans:**\n",
        "\n",
        "Strings in Python are immutable, meaning that once a string is created, it cannot be changed. This immutability of strings is a deliberate design choice in Python for several reasons:\n",
        "\n",
        "1. Efficiency:\n",
        "Memory Optimization: Immutable objects can be shared and reused, reducing memory overhead. For instance, if multiple variables reference the same string, Python doesn't need to allocate new memory for each reference."
      ],
      "metadata": {
        "id": "7_iBrks9aN74"
      }
    },
    {
      "cell_type": "code",
      "source": [
        "str1 = \"hello\"\n",
        "str2 = str1\n",
        "print(str2)"
      ],
      "metadata": {
        "colab": {
          "base_uri": "https://localhost:8080/"
        },
        "id": "PRodH-ySda84",
        "outputId": "b5affaff-28e1-4671-89f2-b5d85bdbace9"
      },
      "execution_count": null,
      "outputs": [
        {
          "output_type": "stream",
          "name": "stdout",
          "text": [
            "hello\n"
          ]
        }
      ]
    },
    {
      "cell_type": "markdown",
      "source": [
        "2. Thread Safety:\n",
        "Concurrency: Immutable objects are inherently thread-safe. Multiple threads can access and use strings without the risk of data corruption or race conditions."
      ],
      "metadata": {
        "id": "sjaKeOzZdhxT"
      }
    },
    {
      "cell_type": "code",
      "source": [
        "import threading\n",
        "\n",
        "def print_string(s):\n",
        "    print(s)\n",
        "\n",
        "my_string = \"Immutable String\"\n",
        "thread1 = threading.Thread(target=print_string, args=(my_string,))\n",
        "thread2 = threading.Thread(target=print_string, args=(my_string,))\n",
        "thread1.start()\n",
        "thread2.start()\n"
      ],
      "metadata": {
        "colab": {
          "base_uri": "https://localhost:8080/"
        },
        "id": "0WJD7QNNd5zG",
        "outputId": "d67a3ae3-bf6b-46f7-bf41-a4ac80795f7e"
      },
      "execution_count": null,
      "outputs": [
        {
          "output_type": "stream",
          "name": "stdout",
          "text": [
            "Immutable String\n",
            "Immutable String\n"
          ]
        }
      ]
    },
    {
      "cell_type": "markdown",
      "source": [
        "3. String Interning:\n",
        "Optimization: Python uses a technique called string interning, where strings with the same value are stored at a single memory location. Immutability ensures that these interned strings are not modified, leading to better performance."
      ],
      "metadata": {
        "id": "OKiaVB7Cd_Rq"
      }
    },
    {
      "cell_type": "code",
      "source": [
        "str1 = \"intern\"\n",
        "str2 = \"intern\"\n",
        "print(str1 is str2)  # Output: True (both refer to the same memory location)\n"
      ],
      "metadata": {
        "colab": {
          "base_uri": "https://localhost:8080/"
        },
        "id": "SDckJ_bMeFyd",
        "outputId": "bebaf960-cfbd-40f9-cc0a-81a57c5fe9a2"
      },
      "execution_count": null,
      "outputs": [
        {
          "output_type": "stream",
          "name": "stdout",
          "text": [
            "True\n"
          ]
        }
      ]
    },
    {
      "cell_type": "markdown",
      "source": [
        "4. Security:\n",
        "Immutable Data: Immutable strings help prevent security issues, such as accidental or malicious modifications of sensitive data."
      ],
      "metadata": {
        "id": "vojDYyrMeInX"
      }
    },
    {
      "cell_type": "code",
      "source": [
        "password = \"SecurePassword123\"\n"
      ],
      "metadata": {
        "id": "5G8MJifFeM7d"
      },
      "execution_count": null,
      "outputs": []
    },
    {
      "cell_type": "markdown",
      "source": [
        "5. Simplified Code:\n",
        "Consistency: Immutability simplifies code by ensuring that string objects do not change state. This makes the code more predictable and easier to debug."
      ],
      "metadata": {
        "id": "1i3ZjpaQePvz"
      }
    },
    {
      "cell_type": "code",
      "source": [
        "greeting = \"Hello, \"\n",
        "name = \"Ajay\"\n",
        "message = greeting + name  # Creates a new string\n",
        "print(message)  # Output: Hello, Ajay\n"
      ],
      "metadata": {
        "colab": {
          "base_uri": "https://localhost:8080/"
        },
        "id": "bK6EZY4qeSPZ",
        "outputId": "8fa727eb-257d-4423-b7ed-063f4ef43fca"
      },
      "execution_count": null,
      "outputs": [
        {
          "output_type": "stream",
          "name": "stdout",
          "text": [
            "Hello, Ajay\n"
          ]
        }
      ]
    },
    {
      "cell_type": "markdown",
      "source": [
        "**Summary:**\n",
        "\n",
        "Efficiency: Immutability allows for memory optimization and better performance through string interning.\n",
        "\n",
        "Thread Safety: Immutable strings are thread-safe, preventing data corruption in concurrent environments.\n",
        "\n",
        "Security: Immutability enhances security by preventing unintended or malicious modifications.\n",
        "\n",
        "Simplified Code: Consistent and predictable behavior of immutable strings simplifies coding and debugging."
      ],
      "metadata": {
        "id": "myYEGfiaeaLR"
      }
    },
    {
      "cell_type": "markdown",
      "source": [
        "**11. What advantages do dictionaries offer over lists for certain tasks ?**\n",
        "\n",
        "**Ans:**\n",
        "\n",
        "**Key advantages of dictionaries over lists:**\n",
        "\n",
        "1. Fast Lookups:\n",
        "\n",
        "Dictionaries: Offer average O(1) time complexity for key-value pair lookups due to the underlying hash table implementation. This makes them highly efficient for tasks that require frequent access to elements by key."
      ],
      "metadata": {
        "id": "OT-_dK96ewvx"
      }
    },
    {
      "cell_type": "code",
      "source": [
        "my_dict = {'name': 'Dj', 'age': 30}\n",
        "print(my_dict['name'])  # Output: Dj (Fast retrieval)\n"
      ],
      "metadata": {
        "colab": {
          "base_uri": "https://localhost:8080/"
        },
        "id": "0uMYUdCIff6F",
        "outputId": "94b06060-8bd8-4c81-fc78-dc768ffa0d44"
      },
      "execution_count": null,
      "outputs": [
        {
          "output_type": "stream",
          "name": "stdout",
          "text": [
            "Dj\n"
          ]
        }
      ]
    },
    {
      "cell_type": "markdown",
      "source": [
        "Lists: Offer O(n) time complexity for lookups, as you may need to search through the entire list to find an element."
      ],
      "metadata": {
        "id": "08Tl6m-pf50p"
      }
    },
    {
      "cell_type": "code",
      "source": [
        "my_list = ['Dj', 30]\n",
        "print(my_list[0])  # Output: Dj (Index-based access)\n"
      ],
      "metadata": {
        "colab": {
          "base_uri": "https://localhost:8080/"
        },
        "id": "60GEG9Vtf82l",
        "outputId": "924b8cd7-902b-464d-c420-e64dac040116"
      },
      "execution_count": null,
      "outputs": [
        {
          "output_type": "stream",
          "name": "stdout",
          "text": [
            "Dj\n"
          ]
        }
      ]
    },
    {
      "cell_type": "markdown",
      "source": [
        "2. Key-Value Pair Storage:\n",
        "\n",
        "Dictionaries: Store data in key-value pairs, making it easy to organize and access data based on meaningful identifiers."
      ],
      "metadata": {
        "id": "FEfjXHecgFFs"
      }
    },
    {
      "cell_type": "code",
      "source": [
        "student_grades = {'Alice': 'A', 'Bob': 'B'}\n",
        "print(student_grades['Alice'])  # Output: A\n"
      ],
      "metadata": {
        "colab": {
          "base_uri": "https://localhost:8080/"
        },
        "id": "YZIZhUcLgI7p",
        "outputId": "745024c5-5c7b-45d7-b828-98aa16305f73"
      },
      "execution_count": null,
      "outputs": [
        {
          "output_type": "stream",
          "name": "stdout",
          "text": [
            "A\n"
          ]
        }
      ]
    },
    {
      "cell_type": "markdown",
      "source": [
        "Lists: Store data as ordered collections of elements, which may not be as intuitive for tasks that require access based on identifiers."
      ],
      "metadata": {
        "id": "xW_iwpPwgNEo"
      }
    },
    {
      "cell_type": "code",
      "source": [
        "student_list = ['Adu', 'Om', 'Bob', 'Dj']\n",
        "print(student_list)"
      ],
      "metadata": {
        "colab": {
          "base_uri": "https://localhost:8080/"
        },
        "id": "X7TVaQHEgOYq",
        "outputId": "1a13c5e7-03cd-432f-87e4-26ab9ede15b1"
      },
      "execution_count": null,
      "outputs": [
        {
          "output_type": "stream",
          "name": "stdout",
          "text": [
            "['Adu', 'Om', 'Bob', 'Dj']\n"
          ]
        }
      ]
    },
    {
      "cell_type": "markdown",
      "source": [
        "3. Dynamic Data Management:\n",
        "\n",
        "Dictionaries: Allow dynamic insertion, deletion, and updating of key-value pairs without needing to maintain order."
      ],
      "metadata": {
        "id": "7hrYz7lPged1"
      }
    },
    {
      "cell_type": "code",
      "source": [
        "inventory = {'apples': 10, 'bananas': 5}\n",
        "inventory['oranges'] = 7  # Adding a new key-value pair\n",
        "del inventory['bananas']  # Removing a key-value pair\n"
      ],
      "metadata": {
        "id": "-BHVxI27giOZ"
      },
      "execution_count": null,
      "outputs": []
    },
    {
      "cell_type": "markdown",
      "source": [
        "Lists: While lists also allow insertion and deletion of elements, these operations can be less efficient and may require shifting elements to maintain order."
      ],
      "metadata": {
        "id": "pm_7pXxpglhj"
      }
    },
    {
      "cell_type": "code",
      "source": [
        "my_list = [1, 2, 3]\n",
        "my_list.append(4)  # Adding an element\n",
        "my_list.remove(2)  # Removing an element (O(n) time complexity)\n"
      ],
      "metadata": {
        "id": "mjl9m--KgoeK"
      },
      "execution_count": null,
      "outputs": []
    },
    {
      "cell_type": "markdown",
      "source": [
        "4. Uniqueness of Keys:\n",
        "\n",
        "Dictionaries: Ensure that each key is unique, which helps in preventing duplicate entries and maintaining data integrity."
      ],
      "metadata": {
        "id": "L7zBR-gwg3DV"
      }
    },
    {
      "cell_type": "code",
      "source": [
        "phone_book = {'Alice': '123-456-7890', 'Bob': 'Philospher'}\n",
        "phone_book['Bob']"
      ],
      "metadata": {
        "colab": {
          "base_uri": "https://localhost:8080/",
          "height": 36
        },
        "id": "wWjIvQleg5ic",
        "outputId": "834a981c-1b09-498d-8566-536100211004"
      },
      "execution_count": null,
      "outputs": [
        {
          "output_type": "execute_result",
          "data": {
            "text/plain": [
              "'Philospher'"
            ],
            "application/vnd.google.colaboratory.intrinsic+json": {
              "type": "string"
            }
          },
          "metadata": {},
          "execution_count": 79
        }
      ]
    },
    {
      "cell_type": "markdown",
      "source": [
        "**12. Describe a scenario where using a tuple would be preferable over a list.**\n",
        "\n",
        "**Ans:**\n",
        "When to Use a Tuple Over a List\n",
        "Scenario: Storing Coordinates in a 2D Space\n",
        "Imagine you're working on a project that involves handling coordinates in a 2D space. For each point, you need to store the x and y coordinates. In this case, a tuple would be more appropriate than a list for the following reasons:\n",
        "\n",
        "1. Immutability:\n",
        "\n",
        "Tuples: are immutable, meaning their elements cannot be changed after creation. This is useful for storing fixed data like coordinates, as it ensures the data remains consistent and unchanged.\n",
        "\n",
        "Lists: are mutable and can be modified, which might introduce accidental changes to your coordinates.\n",
        "\n",
        "\n"
      ],
      "metadata": {
        "id": "CKkrM4zjhcK2"
      }
    },
    {
      "cell_type": "code",
      "source": [
        "# Using a tuple to store coordinates\n",
        "point = (3, 5)\n",
        "\n",
        "# Using a list to store coordinates\n",
        "point_list = [3, 5]\n"
      ],
      "metadata": {
        "id": "fAF-3MMLjyiG"
      },
      "execution_count": null,
      "outputs": []
    },
    {
      "cell_type": "markdown",
      "source": [
        "2. Memory Efficiency:\n",
        "\n",
        "Tuples generally consume less memory compared to lists, as they are optimized for storing fixed-size data.\n",
        "\n",
        "Lists have additional overhead to support dynamic resizing, which can be less memory efficient for fixed-size data."
      ],
      "metadata": {
        "id": "wLoDNJOJj2XF"
      }
    },
    {
      "cell_type": "markdown",
      "source": [
        "3. Readability and Semantics:\n",
        "\n",
        "Tuples are often used for heterogeneous data (different types), while lists are used for homogeneous data (same type). Using a tuple to store coordinates can make your code more readable and indicate that the data represents a fixed, ordered pair.\n",
        "\n",
        "Lists might be less semantically clear for representing fixed pairs like coordinates."
      ],
      "metadata": {
        "id": "T7iQ7qMXj7Pm"
      }
    },
    {
      "cell_type": "code",
      "source": [
        "# Using a tuple to indicate a fixed, ordered pair\n",
        "coordinates = (33, 55)\n",
        "\n",
        "# Using a list might be less clear\n",
        "coordinates_list = [33, 55]\n"
      ],
      "metadata": {
        "id": "wNlI9Duhj-3v"
      },
      "execution_count": null,
      "outputs": []
    },
    {
      "cell_type": "markdown",
      "source": [
        "**13.  How do sets handle duplicate values in Python ?**\n",
        "\n",
        "**Ans:**\n",
        "\n",
        "In Python, sets are unordered collections of unique elements. When you try to add duplicate values to a set, Python automatically ignores them.\n",
        "\n",
        "Here's a brief overview of how sets handle duplicates:\n",
        "\n",
        "1. Unique Elements:\n",
        "Sets automatically remove duplicates when elements are added, ensuring all elements are unique."
      ],
      "metadata": {
        "id": "m9rRRcmkkQSu"
      }
    },
    {
      "cell_type": "code",
      "source": [
        "# Creating a set with duplicate values\n",
        "my_set = {1, 2, 3, 3, 4, 4, 4, 5}\n",
        "\n",
        "# Output\n",
        "print(my_set)  # {1, 2, 3, 4, 5}\n"
      ],
      "metadata": {
        "colab": {
          "base_uri": "https://localhost:8080/"
        },
        "id": "r4Ryjhi-nApt",
        "outputId": "ba2a697b-e06c-471c-ce7b-44d933f046a1"
      },
      "execution_count": null,
      "outputs": [
        {
          "output_type": "stream",
          "name": "stdout",
          "text": [
            "{1, 2, 3, 4, 5}\n"
          ]
        }
      ]
    },
    {
      "cell_type": "markdown",
      "source": [
        "2. Adding Elements:\n",
        "Adding Elements: When you use the add() method to add elements to a set, any duplicates are ignored."
      ],
      "metadata": {
        "id": "cBHf8arcnDkY"
      }
    },
    {
      "cell_type": "code",
      "source": [
        "# Adding elements to a set\n",
        "my_set = {1, 2, 3}\n",
        "my_set.add(3)  # Duplicate is ignored\n",
        "my_set.add(4)\n",
        "\n",
        "# Output\n",
        "print(my_set)  # {1, 2, 3, 4}\n"
      ],
      "metadata": {
        "colab": {
          "base_uri": "https://localhost:8080/"
        },
        "id": "I7q0mm1lnE6N",
        "outputId": "1c37e2f7-fcea-4427-dbd2-2b0ff1f0c1c2"
      },
      "execution_count": null,
      "outputs": [
        {
          "output_type": "stream",
          "name": "stdout",
          "text": [
            "{1, 2, 3, 4}\n"
          ]
        }
      ]
    },
    {
      "cell_type": "markdown",
      "source": [
        "3. Creating Sets from Other Collections:\n",
        "Creating Sets from Lists: When you create a set from a list or any other collection, duplicates are automatically removed."
      ],
      "metadata": {
        "id": "z1wbVNY8nIYG"
      }
    },
    {
      "cell_type": "code",
      "source": [
        "# Creating a set from a list with duplicates\n",
        "my_list = [1, 2, 2, 3, 3, 3, 4, 5]\n",
        "my_set = set(my_list)\n",
        "\n",
        "# Output\n",
        "print(my_set)  # {1, 2, 3, 4, 5}\n"
      ],
      "metadata": {
        "colab": {
          "base_uri": "https://localhost:8080/"
        },
        "id": "RjfakQUbnLkJ",
        "outputId": "d42210e3-b4c4-4736-b19b-b209aeb0d395"
      },
      "execution_count": null,
      "outputs": [
        {
          "output_type": "stream",
          "name": "stdout",
          "text": [
            "{1, 2, 3, 4, 5}\n"
          ]
        }
      ]
    },
    {
      "cell_type": "markdown",
      "source": [
        "In summary, sets in Python inherently handle duplicate values by storing only unique elements. This property makes sets a powerful tool for tasks that require deduplication or maintaining a collection of unique items."
      ],
      "metadata": {
        "id": "4JD-XNx_nTVE"
      }
    },
    {
      "cell_type": "markdown",
      "source": [
        "**14. How does the “in” keyword work differently for lists and dictionaries ?**\n",
        "\n",
        "**Ans:**\n",
        "\n",
        "Lists: The in keyword checks for the presence of an element.\n",
        "\n",
        "Dictionaries: The in keyword checks for the presence of a key.\n",
        "\n",
        "Using in with Lists:\n",
        "When used with lists, the in keyword checks if a specific element is present in the list. It performs a sequential search and returns True if the element is found, and False otherwise."
      ],
      "metadata": {
        "id": "x2qVSFHVnXT5"
      }
    },
    {
      "cell_type": "code",
      "source": [
        "# Example with a list\n",
        "my_list = [1, 2, 3, 4, 5]\n",
        "\n",
        "# Check if 3 is in the list\n",
        "print(3 in my_list)  # True\n",
        "\n",
        "# Check if 6 is in the list\n",
        "print(6 in my_list)  # False\n"
      ],
      "metadata": {
        "colab": {
          "base_uri": "https://localhost:8080/"
        },
        "id": "AqO1HLA0oWAu",
        "outputId": "af373bbf-449c-44db-ed26-c27eefed066a"
      },
      "execution_count": null,
      "outputs": [
        {
          "output_type": "stream",
          "name": "stdout",
          "text": [
            "True\n",
            "False\n"
          ]
        }
      ]
    },
    {
      "cell_type": "markdown",
      "source": [
        "Using in with Dictionaries\n",
        "\n",
        "When used with dictionaries, the in keyword checks for the presence of a key in the dictionary, not the values. It returns True if the key is found, and False otherwise."
      ],
      "metadata": {
        "id": "gUJQiRM_oZCl"
      }
    },
    {
      "cell_type": "code",
      "source": [
        "# Example with a dictionary\n",
        "my_dict = {\"apple\": 1, \"banana\": 2, \"cherry\": 3}\n",
        "\n",
        "# Check if \"banana\" is a key in the dictionary\n",
        "print(\"banana\" in my_dict)  # True\n",
        "\n",
        "# Check if 2 is a key in the dictionary\n",
        "print(2 in my_dict)  # False\n",
        "\n",
        "# Check if \"grape\" is a key in the dictionary\n",
        "print(\"grape\" in my_dict)  # False\n"
      ],
      "metadata": {
        "colab": {
          "base_uri": "https://localhost:8080/"
        },
        "id": "7im_bstyosfe",
        "outputId": "33a20ec2-3d26-4afd-8160-c9760b9b8691"
      },
      "execution_count": null,
      "outputs": [
        {
          "output_type": "stream",
          "name": "stdout",
          "text": [
            "True\n",
            "False\n",
            "False\n"
          ]
        }
      ]
    },
    {
      "cell_type": "markdown",
      "source": [
        "**15. Can you modify the elements of a tuple? Explain why or why not?**\n",
        "\n",
        "**Ans:**\n",
        "\n",
        "No, you cannot modify the elements of a tuple in Python. This is because tuples are immutable, meaning that once a tuple is created, its elements cannot be changed, added, or removed.\n",
        "\n",
        "1. Immutability of Tuples:\n",
        "\n",
        "Definition of Tuples:\n",
        "\n",
        "Tuples are a type of sequence in Python, similar to lists, but with one key difference: immutability.\n",
        "\n",
        "Tuples are defined using parentheses () and can contain elements of different data types."
      ],
      "metadata": {
        "id": "4b6RiU5jo3-i"
      }
    },
    {
      "cell_type": "code",
      "source": [
        "# Creating a tuple\n",
        "my_tuple = (1, 2, 3)\n",
        "print(my_tuple)\n"
      ],
      "metadata": {
        "colab": {
          "base_uri": "https://localhost:8080/"
        },
        "id": "MRtq_UseqG3F",
        "outputId": "5d9e2222-125e-4154-f06b-f7e934459298"
      },
      "execution_count": null,
      "outputs": [
        {
          "output_type": "stream",
          "name": "stdout",
          "text": [
            "(1, 2, 3)\n"
          ]
        }
      ]
    },
    {
      "cell_type": "markdown",
      "source": [
        "2. Immutable Nature:\n",
        "\n",
        "Immutable: Once a tuple is created, its elements cannot be changed, added, or removed.\n",
        "\n",
        "This immutability ensures that the data remains constant and cannot be accidentally modified, making tuples useful for storing fixed data.\n",
        "\n",
        "3. Attempting Modification:\n",
        "\n",
        "Any attempt to modify the elements of a tuple will result in a TypeError."
      ],
      "metadata": {
        "id": "35DwGPnEqNLZ"
      }
    },
    {
      "cell_type": "code",
      "source": [
        "# Attempting to modify a tuple\n",
        "my_tuple = (1, 2, 3)\n",
        "try:\n",
        "    my_tuple[0] = 10\n",
        "except TypeError as e:\n",
        "    print(e)  # 'tuple' object does not support item assignment\n"
      ],
      "metadata": {
        "colab": {
          "base_uri": "https://localhost:8080/"
        },
        "id": "H7a8MMFKqkGn",
        "outputId": "a999414b-6e19-436b-ccb5-6ce0792d2b2f"
      },
      "execution_count": null,
      "outputs": [
        {
          "output_type": "stream",
          "name": "stdout",
          "text": [
            "'tuple' object does not support item assignment\n"
          ]
        }
      ]
    },
    {
      "cell_type": "markdown",
      "source": [
        "4. Use Cases\n",
        "\n",
        "Fixed Data: Tuples are ideal for storing fixed collections of data, such as coordinates or elements that should not change.\n",
        "\n",
        "Dictionary Keys: Tuples can be used as keys in dictionaries because they are immutable, while lists cannot be used as keys."
      ],
      "metadata": {
        "id": "mu_lQJc2qmNz"
      }
    },
    {
      "cell_type": "code",
      "source": [
        "# Using a tuple as a dictionary key\n",
        "my_dict = {(1, 2): \"point A\", (3, 4): \"point B\"}\n",
        "print(my_dict)\n"
      ],
      "metadata": {
        "colab": {
          "base_uri": "https://localhost:8080/"
        },
        "id": "LyjD4F61qrEL",
        "outputId": "751f6294-e627-40d9-d249-ca11550733f1"
      },
      "execution_count": null,
      "outputs": [
        {
          "output_type": "stream",
          "name": "stdout",
          "text": [
            "{(1, 2): 'point A', (3, 4): 'point B'}\n"
          ]
        }
      ]
    },
    {
      "cell_type": "markdown",
      "source": [
        "**16. What is a nested dictionary, and give an example of its use case ?**\n",
        "\n",
        "**Ans:**\n",
        "\n",
        "A nested dictionary in Python is a dictionary within another dictionary. This allows you to store and organize data in a hierarchical structure. Each key in the outer dictionary can map to another dictionary as its value, enabling complex data organization.\n",
        "\n",
        "Example of a Nested Dictionary:\n",
        "\n",
        "Let's consider a scenario where you want to store information about employees in a company. Each employee has details such as their name, age, and department. Using a nested dictionary, you can organize this data as follows:"
      ],
      "metadata": {
        "id": "BG88LRrVq-hl"
      }
    },
    {
      "cell_type": "code",
      "source": [
        "# Nested dictionary to store employee details\n",
        "employees = {\n",
        "    \"emp1\": {\n",
        "        \"name\": \"Alice\",\n",
        "        \"age\": 30,\n",
        "        \"department\": \"HR\"\n",
        "    },\n",
        "    \"emp2\": {\n",
        "        \"name\": \"Bob\",\n",
        "        \"age\": 25,\n",
        "        \"department\": \"Engineering\"\n",
        "    },\n",
        "    \"emp3\": {\n",
        "        \"name\": \"Charlie\",\n",
        "        \"age\": 35,\n",
        "        \"department\": \"Marketing\"\n",
        "    }\n",
        "}\n",
        "\n",
        "# Accessing data in a nested dictionary\n",
        "print(employees[\"emp1\"][\"name\"])  # Output: Alice\n",
        "print(employees[\"emp2\"][\"department\"])  # Output: Engineering\n"
      ],
      "metadata": {
        "colab": {
          "base_uri": "https://localhost:8080/"
        },
        "id": "EKIHf6CJsYXZ",
        "outputId": "65184b5c-b1ef-4cab-ce47-cc45d34970aa"
      },
      "execution_count": null,
      "outputs": [
        {
          "output_type": "stream",
          "name": "stdout",
          "text": [
            "Alice\n",
            "Engineering\n"
          ]
        }
      ]
    },
    {
      "cell_type": "markdown",
      "source": [
        "Use Case:\n",
        "\n",
        "Organizing Employee Data:\n",
        "Problem: You need to store and access detailed information about employees in a company.\n",
        "\n",
        "Solution: Use a nested dictionary to organize and retrieve employee details efficiently.\n",
        "\n",
        "Steps:\n",
        "\n",
        "1. Define the nested dictionary: Each key in the outer dictionary represents an employee, and its value is another dictionary containing the employee's details.\n",
        "\n",
        "2. Access data: Use the outer and inner keys to access specific details about each employee.\n",
        "\n",
        "Benefits:\n",
        "\n",
        "Hierarchical Structure: Nested dictionaries provide a clear and organized way to store hierarchical data.\n",
        "\n",
        "Easy Access: Data can be accessed efficiently using keys.\n",
        "\n",
        "Flexibility: You can add, modify, or remove data as needed without changing the overall structure.\n",
        "\n",
        "**Conclusion:**\n",
        "\n",
        "Nested dictionaries are a powerful tool for organizing and managing complex data in a hierarchical structure. They are particularly useful for scenarios where each key needs to map to another dictionary with multiple related values."
      ],
      "metadata": {
        "id": "kZsVFgM-sb9D"
      }
    },
    {
      "cell_type": "markdown",
      "source": [
        "**17. Describe the time complexity of accessing elements in a dictionary.**\n",
        "\n",
        "**Ans:**\n",
        "\n",
        "In Python, dictionaries are implemented using hash tables, which provide efficient key-value pair storage and retrieval. Here's an overview of the time complexity of accessing elements in a dictionary:\n",
        "\n",
        "Time Complexity of Accessing Elements in a Dictionary:\n",
        "\n",
        "1. Average Case:\n",
        "\n",
        "O(1) (Constant Time): In the average case, accessing elements in a dictionary by key has a time complexity of O(1). This is because the hash table allows for direct indexing, making lookups very fast."
      ],
      "metadata": {
        "id": "sT5dt8rzs3U3"
      }
    },
    {
      "cell_type": "code",
      "source": [
        "# Example of accessing an element in a dictionary\n",
        "my_dict = {\"apple\": 1, \"banana\": 2, \"cherry\": 3}\n",
        "value = my_dict[\"banana\"]  # O(1) time complexity\n",
        "print(value)"
      ],
      "metadata": {
        "colab": {
          "base_uri": "https://localhost:8080/"
        },
        "id": "gV3yPDR9uGET",
        "outputId": "0911b311-c652-405b-c945-e2ed178e3647"
      },
      "execution_count": null,
      "outputs": [
        {
          "output_type": "stream",
          "name": "stdout",
          "text": [
            "2\n"
          ]
        }
      ]
    },
    {
      "cell_type": "markdown",
      "source": [
        "2. Worst Case:\n",
        "\n",
        "O(n) (Linear Time): In the worst case, accessing elements in a dictionary can have a time complexity of O(n). This happens when there are hash collisions, and multiple keys are hashed to the same index, leading to a linked list or other data structure that requires linear time to traverse."
      ],
      "metadata": {
        "id": "spLCn7XLuPDW"
      }
    },
    {
      "cell_type": "code",
      "source": [
        "# Example illustrating the worst-case scenario (hash collisions)\n",
        "my_dict = {}\n",
        "for i in range(1000):\n",
        "    my_dict[i] = i * 2\n",
        "\n",
        "# Accessing an element in the case of severe hash collisions\n",
        "value = my_dict[999]  # O(n) time complexity in worst case\n",
        "print(value)"
      ],
      "metadata": {
        "colab": {
          "base_uri": "https://localhost:8080/"
        },
        "id": "3458w_y-uR1a",
        "outputId": "4bfc0863-4280-4c0a-8567-346190b19067"
      },
      "execution_count": null,
      "outputs": [
        {
          "output_type": "stream",
          "name": "stdout",
          "text": [
            "1998\n"
          ]
        }
      ]
    },
    {
      "cell_type": "markdown",
      "source": [
        "Explanation:\n",
        "\n",
        "Hashing: Dictionaries use a hash function to convert keys into hash values. These hash values are used to index into the hash table, allowing for efficient lookups.\n",
        "\n",
        "Collisions: When two keys hash to the same value, a collision occurs. Python handles collisions using various techniques, such as chaining (storing collided keys in a linked list) or open addressing (finding another open slot)."
      ],
      "metadata": {
        "id": "PDabNZm3uXwD"
      }
    },
    {
      "cell_type": "markdown",
      "source": [
        "**18. In what situations are lists preferred over dictionaries ?**\n",
        "\n",
        "**Ans:**\n",
        "\n",
        "**Situations Where Lists Are Preferred Over Dictionaries:**\n",
        "\n",
        "1. Ordered Data:\n",
        "\n",
        "Lists: Maintain the order of elements as they are added. This is ideal when the order of items is important, such as in sequences, steps, or when displaying data in a specific order.\n",
        "\n",
        "Dictionaries: Prior to Python 3.7, they did not maintain order (although now they do, starting from Python 3.7+).\n"
      ],
      "metadata": {
        "id": "q8V97xz5ucxJ"
      }
    },
    {
      "cell_type": "code",
      "source": [
        "# Example with a list\n",
        "ordered_list = [1, 2, 3, 4, 5]\n",
        "print(ordered_list)"
      ],
      "metadata": {
        "colab": {
          "base_uri": "https://localhost:8080/"
        },
        "id": "yaXhJVI5bmKj",
        "outputId": "91a53991-b64e-4ac5-8e03-9015f85f00fd"
      },
      "execution_count": null,
      "outputs": [
        {
          "output_type": "stream",
          "name": "stdout",
          "text": [
            "[1, 2, 3, 4, 5]\n"
          ]
        }
      ]
    },
    {
      "cell_type": "markdown",
      "source": [
        "2. Index-Based Access:\n",
        "\n",
        "Lists: Allow access to elements by their index, making them suitable for tasks that require positional access or iteration through indices.\n",
        "\n",
        "Dictionaries: Use keys for access, not suitable for index-based access."
      ],
      "metadata": {
        "id": "iLCkEU5Fbs5D"
      }
    },
    {
      "cell_type": "code",
      "source": [
        "# Example with index-based access in a list\n",
        "my_list = ['a', 'b', 'c']\n",
        "print(my_list[1])  # Output: 'b'\n"
      ],
      "metadata": {
        "colab": {
          "base_uri": "https://localhost:8080/"
        },
        "id": "_NkbkLtDbx1P",
        "outputId": "9ac0e4bb-4f53-497d-9b4d-ed6ea7126489"
      },
      "execution_count": null,
      "outputs": [
        {
          "output_type": "stream",
          "name": "stdout",
          "text": [
            "b\n"
          ]
        }
      ]
    },
    {
      "cell_type": "markdown",
      "source": [
        "3. Homogeneous Data:\n",
        "\n",
        "Lists: Are preferred when storing collections of similar items, such as a list of numbers, strings, or objects.\n",
        "\n",
        "Dictionaries: Are more suitable for heterogeneous data with key-value pairs."
      ],
      "metadata": {
        "id": "zfMQDmtFb2hQ"
      }
    },
    {
      "cell_type": "code",
      "source": [
        "# Example with a homogeneous list\n",
        "number_list = [1, 2, 3, 4, 5]\n",
        "print(number_list)\n"
      ],
      "metadata": {
        "colab": {
          "base_uri": "https://localhost:8080/"
        },
        "id": "nIAVowmOb_ON",
        "outputId": "8877f3d8-7ca2-4763-a990-bc7d63a5894f"
      },
      "execution_count": null,
      "outputs": [
        {
          "output_type": "stream",
          "name": "stdout",
          "text": [
            "[1, 2, 3, 4, 5]\n"
          ]
        }
      ]
    },
    {
      "cell_type": "markdown",
      "source": [
        "4. Memory Efficiency:\n",
        "\n",
        "Lists: Tend to be more memory-efficient for storing simple, sequential data due to their contiguous memory allocation.\n",
        "\n",
        "Dictionaries: Have additional overhead for maintaining key-value pairs and hash tables."
      ],
      "metadata": {
        "id": "IFzFMp5ycP8w"
      }
    },
    {
      "cell_type": "markdown",
      "source": [
        "Simplicity:\n",
        "\n",
        "Lists: Offer a simpler and more intuitive way to store and manipulate collections of data when you don't need key-value pairs.\n",
        "\n",
        "Dictionaries: Are more complex and are best used for data with specific, meaningful keys."
      ],
      "metadata": {
        "id": "LMiEC_6ucTXN"
      }
    },
    {
      "cell_type": "code",
      "source": [
        "# Example with a simple list\n",
        "fruit_list = ['apple', 'banana', 'cherry']\n",
        "print(fruit_list)"
      ],
      "metadata": {
        "colab": {
          "base_uri": "https://localhost:8080/"
        },
        "id": "WvaZuDnYcYu9",
        "outputId": "dc0e9697-3513-4b68-9117-e6cbdbf24fa5"
      },
      "execution_count": null,
      "outputs": [
        {
          "output_type": "stream",
          "name": "stdout",
          "text": [
            "['apple', 'banana', 'cherry']\n"
          ]
        }
      ]
    },
    {
      "cell_type": "markdown",
      "source": [
        "**19. Why are dictionaries considered unordered, and how does that affect data retrieval ?**\n",
        "\n",
        "**Ans:**\n",
        "\n",
        "Dictionaries in Python are considered unordered collections because they store key-value pairs based on a hash table rather than maintaining any specific order of keys or values. Here's a detailed explanation of why dictionaries are unordered and how it affects data retrieval:\n",
        "\n",
        "Why Dictionaries Are Considered Unordered:\n",
        "\n",
        "1. Hash Table Implementation:\n",
        "\n",
        "Dictionaries use a hash table to store key-value pairs. Each key is hashed to generate a unique hash value, which determines the index at which the key-value pair is stored.\n",
        "\n",
        "This hashing process enables fast lookups, insertions, and deletions, but it doesn't preserve the order in which items are added.\n",
        "\n",
        "2. No Sequential Order:\n",
        "\n",
        "Unlike lists, which maintain the order of elements based on their indices, dictionaries have no inherent sequential order.\n",
        "\n",
        "The order of items in a dictionary is based on the hash values of the keys, not the order of insertion.\n",
        "\n",
        "**Effects on Data Retrieval:**\n",
        "\n",
        "1. Unpredictable Order:\n",
        "\n",
        "The order of items in a dictionary may appear random or unpredictable, especially when keys are added, removed, or updated.\n",
        "\n",
        "You cannot rely on the order of items when iterating over a dictionary."
      ],
      "metadata": {
        "id": "XjQht5B0cqCA"
      }
    },
    {
      "cell_type": "code",
      "source": [
        "# Example of unordered dictionary\n",
        "my_dict = {\"apple\": 1, \"banana\": 2, \"cherry\": 3}\n",
        "for key in my_dict:\n",
        "    print(key)  # Order may vary\n"
      ],
      "metadata": {
        "colab": {
          "base_uri": "https://localhost:8080/"
        },
        "id": "MrwuInadd33y",
        "outputId": "20ab8a3f-09d8-491b-8615-d749c83c5d27"
      },
      "execution_count": null,
      "outputs": [
        {
          "output_type": "stream",
          "name": "stdout",
          "text": [
            "apple\n",
            "banana\n",
            "cherry\n"
          ]
        }
      ]
    },
    {
      "cell_type": "markdown",
      "source": [
        "2. Fast Lookups:\n",
        "\n",
        "Despite being unordered, dictionaries provide O(1) average time complexity for lookups, thanks to the hash table implementation.\n",
        "\n",
        "This makes dictionaries highly efficient for retrieving values by their keys."
      ],
      "metadata": {
        "id": "SWBcAC2Ed-Wh"
      }
    },
    {
      "cell_type": "code",
      "source": [
        "# Fast lookup in a dictionary\n",
        "value = my_dict[\"banana\"]  # O(1) time complexity\n"
      ],
      "metadata": {
        "id": "NpRMei5yeDaU"
      },
      "execution_count": null,
      "outputs": []
    },
    {
      "cell_type": "markdown",
      "source": [
        "3. Use Cases:\n",
        "\n",
        "Dictionaries are ideal for scenarios where the order of elements is not important, and fast access to values by keys is required.\n",
        "\n",
        "They are commonly used for tasks like counting occurrences, storing configurations, and mapping relationships."
      ],
      "metadata": {
        "id": "ExBWG7lReKb4"
      }
    },
    {
      "cell_type": "markdown",
      "source": [
        "**20. Explain the difference between a list and a dictionary in terms of data retrieval.**\n",
        "\n",
        "**Ans:**\n",
        "\n",
        "List:\n",
        "\n",
        "Definition: A list is an ordered collection of elements.\n",
        "\n",
        "Data Retrieval: Elements in a list are accessed by their index, which is an integer indicating the position in the list.\n",
        "Example:"
      ],
      "metadata": {
        "id": "TT6hHbDBeQND"
      }
    },
    {
      "cell_type": "code",
      "source": [
        "my_list = ['apple', 'banana', 'cherry']\n",
        "print(my_list[1])  # Output: banana\n"
      ],
      "metadata": {
        "colab": {
          "base_uri": "https://localhost:8080/"
        },
        "id": "O7-q3n3WgMJT",
        "outputId": "bccda594-09d8-4290-93d8-c5dc40719aa2"
      },
      "execution_count": null,
      "outputs": [
        {
          "output_type": "stream",
          "name": "stdout",
          "text": [
            "banana\n"
          ]
        }
      ]
    },
    {
      "cell_type": "markdown",
      "source": [
        "Characteristics:\n",
        "\n",
        "Ordered: Elements have a specific order.\n",
        "\n",
        "Index-based: Accessed using integer indices.\n",
        "\n",
        "Mutable: Elements can be added, removed, or changed."
      ],
      "metadata": {
        "id": "LeqhPU3VgSqR"
      }
    },
    {
      "cell_type": "markdown",
      "source": [
        "Dictionary:\n",
        "\n",
        "Definition: A dictionary is an unordered collection of key-value pairs.\n",
        "\n",
        "Data Retrieval: Values in a dictionary are accessed by their keys, which can be any immutable type (e.g., strings, numbers, tuples).\n",
        "\n",
        "Example:"
      ],
      "metadata": {
        "id": "wiCZ7w46gVxJ"
      }
    },
    {
      "cell_type": "code",
      "source": [
        "my_dict = {'fruit1': 'apple', 'fruit2': 'banana', 'fruit3': 'cherry'}\n",
        "print(my_dict['fruit2'])  # Output: banana\n"
      ],
      "metadata": {
        "colab": {
          "base_uri": "https://localhost:8080/"
        },
        "id": "Vr_Qb3cDgZyY",
        "outputId": "a1f4ba21-1488-4298-e48c-649419a7b4e5"
      },
      "execution_count": null,
      "outputs": [
        {
          "output_type": "stream",
          "name": "stdout",
          "text": [
            "banana\n"
          ]
        }
      ]
    },
    {
      "cell_type": "markdown",
      "source": [
        "Characteristics:\n",
        "\n",
        "Unordered: No specific order of elements.\n",
        "\n",
        "Key-based: Accessed using keys instead of indices.\n",
        "\n",
        "Mutable: Elements can be added, removed, or changed."
      ],
      "metadata": {
        "id": "5Kql3BRKgd_B"
      }
    },
    {
      "cell_type": "markdown",
      "source": [
        "In summary, lists are best for ordered collections where you need to access items by their position, whereas dictionaries are ideal for associative arrays where you need to access items by a unique key."
      ],
      "metadata": {
        "id": "y1RF_BCegp2A"
      }
    },
    {
      "cell_type": "markdown",
      "source": [
        "# Practical Questions/Answers:\n",
        "\n",
        "**1. Write a code to create a string with your name and print it ?**\n",
        "\n",
        "**Ans:**"
      ],
      "metadata": {
        "id": "dBmwMjzphDET"
      }
    },
    {
      "cell_type": "code",
      "source": [
        "name_string= 'Abhinv' # Creating string with my name\n",
        "\n",
        "# Printing the string\n",
        "print(name_string)"
      ],
      "metadata": {
        "colab": {
          "base_uri": "https://localhost:8080/"
        },
        "id": "W0GuFFDjhcQh",
        "outputId": "4eb2f9d8-5c44-4620-91a2-df5544f4724a"
      },
      "execution_count": null,
      "outputs": [
        {
          "output_type": "stream",
          "name": "stdout",
          "text": [
            "Abhinv\n"
          ]
        }
      ]
    },
    {
      "cell_type": "markdown",
      "source": [
        "**2. Write a code to find the length of the string \"Hello World\" .**\n",
        "\n",
        "**Ans:**"
      ],
      "metadata": {
        "id": "XV7S81emiEED"
      }
    },
    {
      "cell_type": "code",
      "source": [
        "given_string= \"Hello world\"\n",
        "\n",
        "# len() function is used to find lenght in Python\n",
        "print(len(given_string)) # Printing the length of given string"
      ],
      "metadata": {
        "colab": {
          "base_uri": "https://localhost:8080/"
        },
        "id": "Fyg5bpsqiR7v",
        "outputId": "3ea35314-157e-4955-8c7b-c926814ea06b"
      },
      "execution_count": null,
      "outputs": [
        {
          "output_type": "stream",
          "name": "stdout",
          "text": [
            "11\n"
          ]
        }
      ]
    },
    {
      "cell_type": "markdown",
      "source": [
        "**3.  Write a code to slice the first 3 characters from the string \"Python Programming\" .**\n",
        "\n",
        "**Ans:**"
      ],
      "metadata": {
        "id": "dXsr-pfcorGg"
      }
    },
    {
      "cell_type": "code",
      "source": [
        "# Define the string\n",
        "text = \"Python Programming\"\n",
        "\n",
        "# Slice the first 3 characters\n",
        "sliced_text = text[:3]\n",
        "\n",
        "# Print the result\n",
        "print(sliced_text)\n"
      ],
      "metadata": {
        "colab": {
          "base_uri": "https://localhost:8080/"
        },
        "id": "9nBZ0UrjpH-N",
        "outputId": "9feabf7a-ca8d-4e57-8bfb-f57a9925635d"
      },
      "execution_count": 1,
      "outputs": [
        {
          "output_type": "stream",
          "name": "stdout",
          "text": [
            "Pyt\n"
          ]
        }
      ]
    },
    {
      "cell_type": "markdown",
      "source": [
        "**4.  Write a code to convert the string \"hello\" to uppercase .**\n",
        "\n",
        "**Ans:**"
      ],
      "metadata": {
        "id": "OtLHwVnNpRxO"
      }
    },
    {
      "cell_type": "code",
      "source": [
        "# Define the string\n",
        "text = \"hello\"\n",
        "\n",
        "# Convert the string to uppercase\n",
        "uppercase_text = text.upper()\n",
        "\n",
        "# Print the result\n",
        "print(uppercase_text)\n"
      ],
      "metadata": {
        "colab": {
          "base_uri": "https://localhost:8080/"
        },
        "id": "7N-y2GC2pg5z",
        "outputId": "e21d06c3-1501-4427-f0ec-09b5725d757d"
      },
      "execution_count": 2,
      "outputs": [
        {
          "output_type": "stream",
          "name": "stdout",
          "text": [
            "HELLO\n"
          ]
        }
      ]
    },
    {
      "cell_type": "markdown",
      "source": [
        "**5. Write a code to replace the word \"apple\" with \"orange\" in the string \"I like apple\" .**\n",
        "\n",
        "Ans:"
      ],
      "metadata": {
        "id": "A02L9uxTpoW2"
      }
    },
    {
      "cell_type": "code",
      "source": [
        "# Define the string\n",
        "text = \"I like apple\"\n",
        "\n",
        "# Replace \"apple\" with \"orange\"\n",
        "new_text = text.replace(\"apple\", \"orange\")\n",
        "\n",
        "# Print the result\n",
        "print(new_text)\n"
      ],
      "metadata": {
        "colab": {
          "base_uri": "https://localhost:8080/"
        },
        "id": "PYsKZrnXp46H",
        "outputId": "2638b20b-fbef-4d67-9f05-bda3046cf6a5"
      },
      "execution_count": 3,
      "outputs": [
        {
          "output_type": "stream",
          "name": "stdout",
          "text": [
            "I like orange\n"
          ]
        }
      ]
    },
    {
      "cell_type": "markdown",
      "source": [
        "**6. Write a code to create a list with numbers 1 to 5 and print it.**\n",
        "\n",
        "**Ans:**"
      ],
      "metadata": {
        "id": "SVo_gbaNqEzm"
      }
    },
    {
      "cell_type": "code",
      "source": [
        "# Create a list with numbers 1 to 5\n",
        "numbers = [1, 2, 3, 4, 5]\n",
        "\n",
        "# Print the list\n",
        "print(numbers)\n"
      ],
      "metadata": {
        "colab": {
          "base_uri": "https://localhost:8080/"
        },
        "id": "RI20OmDGqdZt",
        "outputId": "62deeea8-720b-43e0-8e91-097627d96dec"
      },
      "execution_count": 4,
      "outputs": [
        {
          "output_type": "stream",
          "name": "stdout",
          "text": [
            "[1, 2, 3, 4, 5]\n"
          ]
        }
      ]
    },
    {
      "cell_type": "markdown",
      "source": [
        "**7. Write a code to append the number 10 to the list [1, 2, 3, 4].**\n",
        "\n",
        "**Ans:**"
      ],
      "metadata": {
        "id": "AH4K4TCvqgAi"
      }
    },
    {
      "cell_type": "code",
      "source": [
        "# Define the list\n",
        "numbers = [1, 2, 3, 4]\n",
        "\n",
        "# Append the number 10 to the list\n",
        "numbers.append(10)\n",
        "\n",
        "# Print the updated list\n",
        "print(numbers)\n"
      ],
      "metadata": {
        "colab": {
          "base_uri": "https://localhost:8080/"
        },
        "id": "TtLrCD_bqrpV",
        "outputId": "9707b41b-0e50-4b4a-b906-792bd2f1eb06"
      },
      "execution_count": 5,
      "outputs": [
        {
          "output_type": "stream",
          "name": "stdout",
          "text": [
            "[1, 2, 3, 4, 10]\n"
          ]
        }
      ]
    },
    {
      "cell_type": "markdown",
      "source": [
        "**8. Write a code to remove the number 3 from the list [1, 2, 3, 4, 5].**\n",
        "\n",
        "**Ans:**"
      ],
      "metadata": {
        "id": "OzmAm41Zqv5A"
      }
    },
    {
      "cell_type": "code",
      "source": [
        "# Original list\n",
        "numbers = [1, 2, 3, 4, 5]\n",
        "\n",
        "# Remove the number 3\n",
        "numbers.remove(3)\n",
        "\n",
        "# Print the updated list\n",
        "print(numbers)"
      ],
      "metadata": {
        "colab": {
          "base_uri": "https://localhost:8080/"
        },
        "id": "XpYjzHXWrG8p",
        "outputId": "c7eb54a0-8c41-474c-ad24-920cddb891ff"
      },
      "execution_count": 6,
      "outputs": [
        {
          "output_type": "stream",
          "name": "stdout",
          "text": [
            "[1, 2, 4, 5]\n"
          ]
        }
      ]
    },
    {
      "cell_type": "markdown",
      "source": [
        "**9. Write a code to access the second element in the list ['a', 'b', 'c', 'd'].**\n",
        "\n",
        "**Ans:**"
      ],
      "metadata": {
        "id": "kRN-X4cFrWtt"
      }
    },
    {
      "cell_type": "code",
      "source": [
        "# Define the list\n",
        "my_list = ['a', 'b', 'c', 'd']\n",
        "\n",
        "# Access the second element (index 1)\n",
        "second_element = my_list[1]\n",
        "\n",
        "# Print the second element\n",
        "print(second_element)"
      ],
      "metadata": {
        "colab": {
          "base_uri": "https://localhost:8080/"
        },
        "id": "BUko_2GhrsLy",
        "outputId": "b71e4eab-a50f-48bc-a0c5-d2a839be81b5"
      },
      "execution_count": 7,
      "outputs": [
        {
          "output_type": "stream",
          "name": "stdout",
          "text": [
            "b\n"
          ]
        }
      ]
    },
    {
      "cell_type": "markdown",
      "source": [
        "**10. Write a code to reverse the list [10, 20, 30, 40, 50].**\n",
        "\n",
        "**Ans:**"
      ],
      "metadata": {
        "id": "Y0uhqBESrvo1"
      }
    },
    {
      "cell_type": "code",
      "source": [
        "# original list\n",
        "list= [10,20,30,40,50]\n",
        "\n",
        "# code for reversing the list\n",
        "reversed_list= list[::-1]\n",
        "\n",
        "#printing the reverse list\n",
        "print(reversed_list)"
      ],
      "metadata": {
        "colab": {
          "base_uri": "https://localhost:8080/"
        },
        "id": "li_WTCp7sbZk",
        "outputId": "45c128bf-9690-4e12-c9d0-c00ba2a30c46"
      },
      "execution_count": 8,
      "outputs": [
        {
          "output_type": "stream",
          "name": "stdout",
          "text": [
            "[50, 40, 30, 20, 10]\n"
          ]
        }
      ]
    },
    {
      "cell_type": "markdown",
      "source": [
        "**11. Write a code to create a tuple with the elements 100, 200, 300 and print it.**\n",
        "\n",
        "**Ans:**"
      ],
      "metadata": {
        "id": "2O34RukktW0p"
      }
    },
    {
      "cell_type": "code",
      "source": [
        "# Create a tuple with the elements 100, 200, 300\n",
        "my_tuple = (100, 200, 300)\n",
        "\n",
        "# Print the tuple\n",
        "print(my_tuple)\n"
      ],
      "metadata": {
        "colab": {
          "base_uri": "https://localhost:8080/"
        },
        "id": "GgnEyYiet5ED",
        "outputId": "31311ebe-4119-4de2-f8cc-abf5caf2c28b"
      },
      "execution_count": 9,
      "outputs": [
        {
          "output_type": "stream",
          "name": "stdout",
          "text": [
            "(100, 200, 300)\n"
          ]
        }
      ]
    },
    {
      "cell_type": "markdown",
      "source": [
        "**12. . Write a code to access the second-to-last element of the tuple ('red', 'green', 'blue', 'yellow').**\n",
        "\n",
        "**Ans:**"
      ],
      "metadata": {
        "id": "MgpLhv2Lt6wg"
      }
    },
    {
      "cell_type": "code",
      "source": [
        "# Define the tuple\n",
        "colors = ('red', 'green', 'blue', 'yellow')\n",
        "\n",
        "# Access the second-to-last element\n",
        "second_to_last = colors[-2]\n",
        "\n",
        "# Print the second-to-last element\n",
        "print(second_to_last)\n"
      ],
      "metadata": {
        "colab": {
          "base_uri": "https://localhost:8080/"
        },
        "id": "HUM98IkouLxm",
        "outputId": "05a92817-1782-4a0e-c854-19073671f751"
      },
      "execution_count": 10,
      "outputs": [
        {
          "output_type": "stream",
          "name": "stdout",
          "text": [
            "blue\n"
          ]
        }
      ]
    },
    {
      "cell_type": "markdown",
      "source": [
        "**13. Write a code to find the minimum number in the tuple (10, 20, 5, 15).**\n",
        "\n",
        "**Ans:**"
      ],
      "metadata": {
        "id": "MqdKkSppuNdk"
      }
    },
    {
      "cell_type": "code",
      "source": [
        "# Define the tuple\n",
        "numbers = (10, 20, 5, 15)\n",
        "\n",
        "# Find the minimum number in the tuple\n",
        "min_number = min(numbers)\n",
        "\n",
        "# Print the minimum number\n",
        "print(min_number)\n"
      ],
      "metadata": {
        "colab": {
          "base_uri": "https://localhost:8080/"
        },
        "id": "g6XV-jD6uaTc",
        "outputId": "9b5933ac-41a2-497f-bfb4-9f96c2cd7bb4"
      },
      "execution_count": 11,
      "outputs": [
        {
          "output_type": "stream",
          "name": "stdout",
          "text": [
            "5\n"
          ]
        }
      ]
    },
    {
      "cell_type": "markdown",
      "source": [
        "**14.  Write a code to find the index of the element \"cat\" in the tuple ('dog', 'cat', 'rabbit').**\n",
        "\n",
        "**Ans:**"
      ],
      "metadata": {
        "id": "hkg634zMucE_"
      }
    },
    {
      "cell_type": "code",
      "source": [
        "# Define the tuple\n",
        "animals = ('dog', 'cat', 'rabbit')\n",
        "\n",
        "# Find the index of the element \"cat\"\n",
        "index_of_cat = animals.index('cat')\n",
        "\n",
        "# Print the index of the element \"cat\"\n",
        "print(index_of_cat)\n"
      ],
      "metadata": {
        "colab": {
          "base_uri": "https://localhost:8080/"
        },
        "id": "iFBgDks6urFK",
        "outputId": "ae60249f-d36e-4790-c54f-262bdee7a9fa"
      },
      "execution_count": 12,
      "outputs": [
        {
          "output_type": "stream",
          "name": "stdout",
          "text": [
            "1\n"
          ]
        }
      ]
    },
    {
      "cell_type": "markdown",
      "source": [
        "**15.  Write a code to create a tuple containing three different fruits and check if \"kiwi\" is in it.**\n",
        "\n",
        "**Ans:**"
      ],
      "metadata": {
        "id": "vNBt7izFuscu"
      }
    },
    {
      "cell_type": "code",
      "source": [
        "# creating tuple containing 3 different fruits\n",
        "fruits_tuple= ('apple','kiwi','mango')\n",
        "\n",
        "# checking of kiwi\n",
        "checking= 'kiwi' in fruits_tuple\n",
        "\n",
        "# printing 'kiwi is in tuple or not'\n",
        "if(checking== True):\n",
        "  print('kiwe is in tuple')\n",
        "else:\n",
        "  print('kiwi is not in tuple')\n",
        "\n"
      ],
      "metadata": {
        "colab": {
          "base_uri": "https://localhost:8080/"
        },
        "id": "1S5uemrlu4R_",
        "outputId": "3f475997-8a8d-47d7-fbe2-4db00c15129f"
      },
      "execution_count": 15,
      "outputs": [
        {
          "output_type": "stream",
          "name": "stdout",
          "text": [
            "kiwe is in tuple\n"
          ]
        }
      ]
    },
    {
      "cell_type": "markdown",
      "source": [
        "**16. Write a code to create a set with the elements 'a', 'b', 'c' and print it.**\n",
        "\n",
        "**Ans:**"
      ],
      "metadata": {
        "id": "enaPSDV3wj9i"
      }
    },
    {
      "cell_type": "code",
      "source": [
        "# creating set{} with given elements\n",
        "new_set= {'a','b','c'}\n",
        "\n",
        "# printing the set\n",
        "print(new_set)"
      ],
      "metadata": {
        "colab": {
          "base_uri": "https://localhost:8080/"
        },
        "id": "fnsIOEgLwvBr",
        "outputId": "e73c5f2a-f821-4adb-f517-c8a13801ba42"
      },
      "execution_count": 16,
      "outputs": [
        {
          "output_type": "stream",
          "name": "stdout",
          "text": [
            "{'b', 'c', 'a'}\n"
          ]
        }
      ]
    },
    {
      "cell_type": "markdown",
      "source": [
        "**17. Write a code to clear all elements from the set {1, 2, 3, 4, 5}.**\n",
        "\n",
        "**Ans:**"
      ],
      "metadata": {
        "id": "qPa4NNrxxUDT"
      }
    },
    {
      "cell_type": "code",
      "source": [
        "# Define the set\n",
        "my_set = {1, 2, 3, 4, 5}\n",
        "\n",
        "# Clear all elements from the set\n",
        "my_set.clear()\n",
        "\n",
        "# Print the set to confirm it's empty\n",
        "print(my_set)\n"
      ],
      "metadata": {
        "colab": {
          "base_uri": "https://localhost:8080/"
        },
        "id": "C_LcpPf-yU6X",
        "outputId": "ef3eef06-db63-4810-b7c1-80f8f9ff964b"
      },
      "execution_count": 23,
      "outputs": [
        {
          "output_type": "stream",
          "name": "stdout",
          "text": [
            "set()\n"
          ]
        }
      ]
    },
    {
      "cell_type": "markdown",
      "source": [
        "**18. Write a code to remove the element 4 from the set {1, 2, 3, 4}.**\n",
        "\n",
        "Ans:"
      ],
      "metadata": {
        "id": "LV6gsYTeywoE"
      }
    },
    {
      "cell_type": "code",
      "source": [
        "# Define the set\n",
        "my_set = {1, 2, 3, 4}\n",
        "\n",
        "# Remove the element 4 from the set\n",
        "my_set.remove(4)\n",
        "\n",
        "# Print the set to confirm the element has been removed\n",
        "print(my_set)\n"
      ],
      "metadata": {
        "colab": {
          "base_uri": "https://localhost:8080/"
        },
        "id": "iBOoXGH4zB0p",
        "outputId": "1f7101db-4ff2-497d-a678-e5ca3b514107"
      },
      "execution_count": 24,
      "outputs": [
        {
          "output_type": "stream",
          "name": "stdout",
          "text": [
            "{1, 2, 3}\n"
          ]
        }
      ]
    },
    {
      "cell_type": "markdown",
      "source": [
        "**19.  Write a code to find the union of two sets {1, 2, 3} and {3, 4, 5}.**\n",
        "\n",
        "**Ans:**"
      ],
      "metadata": {
        "id": "FlcR5h_zzDuW"
      }
    },
    {
      "cell_type": "code",
      "source": [
        "# Define the sets\n",
        "set1 = {1, 2, 3}\n",
        "set2 = {3, 4, 5}\n",
        "\n",
        "# Find the union of the two sets\n",
        "union_set = set1.union(set2)\n",
        "\n",
        "# Print the union set\n",
        "print(union_set)\n"
      ],
      "metadata": {
        "colab": {
          "base_uri": "https://localhost:8080/"
        },
        "id": "EYo4Z70UzNw0",
        "outputId": "69c7aba3-7146-4d82-d3c5-dd140731a801"
      },
      "execution_count": 25,
      "outputs": [
        {
          "output_type": "stream",
          "name": "stdout",
          "text": [
            "{1, 2, 3, 4, 5}\n"
          ]
        }
      ]
    },
    {
      "cell_type": "markdown",
      "source": [
        "**20.  Write a code to find the intersection of two sets {1, 2, 3} and {2, 3, 4}.**\n",
        "\n",
        "**Ans:**"
      ],
      "metadata": {
        "id": "4JY9Sjh4zQA6"
      }
    },
    {
      "cell_type": "code",
      "source": [
        "# Define the sets\n",
        "set1 = {1, 2, 3}\n",
        "set2 = {2, 3, 4}\n",
        "\n",
        "# Find the intersection of the two sets\n",
        "intersection_set = set1.intersection(set2)\n",
        "\n",
        "# Print the intersection set\n",
        "print(intersection_set)\n"
      ],
      "metadata": {
        "colab": {
          "base_uri": "https://localhost:8080/"
        },
        "id": "BdnVNyx9zdRq",
        "outputId": "f1b02903-a33f-450d-fd96-e155160df1e9"
      },
      "execution_count": 26,
      "outputs": [
        {
          "output_type": "stream",
          "name": "stdout",
          "text": [
            "{2, 3}\n"
          ]
        }
      ]
    },
    {
      "cell_type": "markdown",
      "source": [
        "**21. Write a code to create a dictionary with the keys \"name\", \"age\", and \"city\", and print it.**\n",
        "\n",
        "**Ans:**"
      ],
      "metadata": {
        "id": "iLAyxfmwzjqz"
      }
    },
    {
      "cell_type": "code",
      "source": [
        "# Create a dictionary with the keys \"name\", \"age\", and \"city\"\n",
        "person_info = {\n",
        "    \"name\": \"Ajay\",\n",
        "    \"age\": 30,\n",
        "    \"city\": \"Bhagalpur\"\n",
        "}\n",
        "\n",
        "# Print the dictionary\n",
        "print(person_info)\n"
      ],
      "metadata": {
        "colab": {
          "base_uri": "https://localhost:8080/"
        },
        "id": "sFK8lwMoz0Sn",
        "outputId": "ccb5fd15-d258-4987-c1af-7daeada68854"
      },
      "execution_count": 27,
      "outputs": [
        {
          "output_type": "stream",
          "name": "stdout",
          "text": [
            "{'name': 'Ajay', 'age': 30, 'city': 'Bhagalpur'}\n"
          ]
        }
      ]
    },
    {
      "cell_type": "markdown",
      "source": [
        "**22. Write a code to add a new key-value pair \"country\": \"USA\" to the dictionary {'name': 'John', 'age': 25}.**\n",
        "\n",
        "**Ans:**"
      ],
      "metadata": {
        "id": "p4msRGqOz_xq"
      }
    },
    {
      "cell_type": "code",
      "source": [
        "# original dictionary\n",
        "orig_dict={'name':'Johan', 'age':25}\n",
        "\n",
        "# adding new key value pair 'country':'USA'\n",
        "orig_dict['country']= 'USA'\n",
        "\n",
        "# checking the updation\n",
        "print(orig_dict)"
      ],
      "metadata": {
        "colab": {
          "base_uri": "https://localhost:8080/"
        },
        "id": "w-pSYkYZ0PbW",
        "outputId": "adafa68d-dbe0-473b-d5cf-cf48206c6c89"
      },
      "execution_count": 28,
      "outputs": [
        {
          "output_type": "stream",
          "name": "stdout",
          "text": [
            "{'name': 'Johan', 'age': 25, 'country': 'USA'}\n"
          ]
        }
      ]
    },
    {
      "cell_type": "markdown",
      "source": [
        "**23. Write a code to access the value associated with the key \"name\" in the dictionary {'name': 'Alice', 'age': 30}.**\n",
        "\n",
        "**Ans:**"
      ],
      "metadata": {
        "id": "Fwbaf0ZO1Nnz"
      }
    },
    {
      "cell_type": "code",
      "source": [
        "# Define the dictionary\n",
        "person_info = {'name': 'Alice', 'age': 30}\n",
        "\n",
        "# Access the value associated with the key \"name\"\n",
        "name_value = person_info['name']\n",
        "\n",
        "# Print the value\n",
        "print(name_value)\n"
      ],
      "metadata": {
        "colab": {
          "base_uri": "https://localhost:8080/"
        },
        "id": "-c9F88c21rT1",
        "outputId": "c6df0a93-3c8f-48a0-8698-22a2128698f8"
      },
      "execution_count": 29,
      "outputs": [
        {
          "output_type": "stream",
          "name": "stdout",
          "text": [
            "Alice\n"
          ]
        }
      ]
    },
    {
      "cell_type": "markdown",
      "source": [
        "**24. Write a code to remove the key \"age\" from the dictionary {'name': 'Bob', 'age': 22, 'city': 'New York'}.**\n",
        "\n",
        "**Ans:**"
      ],
      "metadata": {
        "id": "jBkr8wJx1tGt"
      }
    },
    {
      "cell_type": "code",
      "source": [
        "# given dectionary\n",
        "given_dict={'name':'Bob', 'age':22, 'city':'New York'}\n",
        "\n",
        "# removing the key 'age'\n",
        "given_dict.pop('age')\n",
        "\n",
        "# checking the remaining list\n",
        "print(given_dict)"
      ],
      "metadata": {
        "colab": {
          "base_uri": "https://localhost:8080/"
        },
        "id": "88rMIQAt2L7m",
        "outputId": "92e2272b-8302-461a-d91b-f693934e6c04"
      },
      "execution_count": 35,
      "outputs": [
        {
          "output_type": "stream",
          "name": "stdout",
          "text": [
            "{'name': 'Bob', 'city': 'New York'}\n"
          ]
        }
      ]
    },
    {
      "cell_type": "markdown",
      "source": [
        "**25. Write a code to check if the key \"city\" exists in the dictionary {'name': 'Alice', 'city': 'Paris'}.**\n",
        "\n",
        "**Ans:**"
      ],
      "metadata": {
        "id": "GeYzyyFV3akN"
      }
    },
    {
      "cell_type": "code",
      "source": [
        "# Define the dictionary\n",
        "person_info = {'name': 'Alice', 'city': 'Paris'}\n",
        "\n",
        "# Check if the key \"city\" exists in the dictionary\n",
        "key_exists = 'city' in person_info\n",
        "\n",
        "# Print the result\n",
        "print(key_exists)\n"
      ],
      "metadata": {
        "colab": {
          "base_uri": "https://localhost:8080/"
        },
        "id": "kC0uaHJ13sDm",
        "outputId": "2d01aa4d-e1b2-47a8-997e-69298178e678"
      },
      "execution_count": 36,
      "outputs": [
        {
          "output_type": "stream",
          "name": "stdout",
          "text": [
            "True\n"
          ]
        }
      ]
    },
    {
      "cell_type": "markdown",
      "source": [
        "**26.  Write a code to create a list, a tuple, and a dictionary, and print them all.**\n",
        "\n",
        "**Ans:**"
      ],
      "metadata": {
        "id": "GaXKep2A38q-"
      }
    },
    {
      "cell_type": "code",
      "source": [
        "# Create a list\n",
        "my_list = [1, 2, 3, 4, 5]\n",
        "\n",
        "# Create a tuple\n",
        "my_tuple = ('apple', 'banana', 'cherry')\n",
        "\n",
        "# Create a dictionary\n",
        "my_dict = {\n",
        "    'name': 'Alice',\n",
        "    'age': 30,\n",
        "    'city': 'Paris'\n",
        "}\n",
        "\n",
        "# Print the list, tuple, and dictionary\n",
        "print(\"List:\", my_list)\n",
        "print(\"Tuple:\", my_tuple)\n",
        "print(\"Dictionary:\", my_dict)\n"
      ],
      "metadata": {
        "colab": {
          "base_uri": "https://localhost:8080/"
        },
        "id": "Uqw95CGt4Gvp",
        "outputId": "6f15d095-da76-4e3a-bfe4-53f47afa37ae"
      },
      "execution_count": 37,
      "outputs": [
        {
          "output_type": "stream",
          "name": "stdout",
          "text": [
            "List: [1, 2, 3, 4, 5]\n",
            "Tuple: ('apple', 'banana', 'cherry')\n",
            "Dictionary: {'name': 'Alice', 'age': 30, 'city': 'Paris'}\n"
          ]
        }
      ]
    },
    {
      "cell_type": "markdown",
      "source": [
        "27. Write a code to create a list of 5 random numbers between 1 and 100, sort it in ascending order, and print the\n",
        "result.(replaced). **bold text**\n",
        "\n",
        "Ans:"
      ],
      "metadata": {
        "id": "cptfkNFf4Iok"
      }
    },
    {
      "cell_type": "code",
      "source": [
        "# importing random library for generating random numbers\n",
        "import random\n",
        "\n",
        "# creating a list of 5 random numbers between 1 & 100\n",
        "random_numbers = random.sample(range(1,101),5)\n",
        "\n",
        "# sort the list in ascending order\n",
        "sorted_numbers= sorted(random_numbers)\n",
        "\n",
        "# printing the sorted random numbers and sorted list\n",
        "print('Random Numbers: ', random_numbers)\n",
        "print('Sorted Numbers: ', sorted_numbers)"
      ],
      "metadata": {
        "colab": {
          "base_uri": "https://localhost:8080/"
        },
        "id": "szSj2D_T4mAW",
        "outputId": "3b818f1d-8113-4b93-b4f5-ea4c4c60f6a1"
      },
      "execution_count": 40,
      "outputs": [
        {
          "output_type": "stream",
          "name": "stdout",
          "text": [
            "Random Numbers:  [31, 80, 77, 14, 95]\n",
            "Sorted Numbers:  [14, 31, 77, 80, 95]\n"
          ]
        }
      ]
    },
    {
      "cell_type": "markdown",
      "source": [
        "**28. Write a code to create a list with strings and print the element at the third index.**\n",
        "\n",
        "**Ans:**"
      ],
      "metadata": {
        "id": "aN3nY-TB7Ui5"
      }
    },
    {
      "cell_type": "code",
      "source": [
        "# Create a list with strings\n",
        "my_list = ['apple', 'banana', 'cherry', 'date(khajur)', 'elderberry']\n",
        "\n",
        "# Print the element at the third index\n",
        "third_element = my_list[3]\n",
        "\n",
        "# Print the third element\n",
        "print(third_element)\n"
      ],
      "metadata": {
        "colab": {
          "base_uri": "https://localhost:8080/"
        },
        "id": "neIOH39T7p4K",
        "outputId": "e69e353d-8e9e-4350-ddbe-7f1d0e7564dc"
      },
      "execution_count": 42,
      "outputs": [
        {
          "output_type": "stream",
          "name": "stdout",
          "text": [
            "date(khajur)\n"
          ]
        }
      ]
    },
    {
      "cell_type": "markdown",
      "source": [
        "**29. Write a code to combine two dictionaries into one and print the result.**\n",
        "\n",
        "**Ans:**"
      ],
      "metadata": {
        "id": "w6PSuotz71bD"
      }
    },
    {
      "cell_type": "code",
      "source": [
        "# creating two dictionaries\n",
        "dict_1= {'sport':'Cricket', 'verses': 'Ind vs Pak','event':'Champions Trophy'}\n",
        "dict_2= {'result': 'India Wins', 'man of match':'Virat Kohali'}\n",
        "\n",
        "# combining two dictionaries\n",
        "combined_dict = {**dict_1, **dict_2}\n",
        "\n",
        "# printing the combined dictionaries\n",
        "print(combined_dict)\n"
      ],
      "metadata": {
        "colab": {
          "base_uri": "https://localhost:8080/"
        },
        "id": "IWPOidAq8D9N",
        "outputId": "55e62656-8527-47ed-ab50-5bd0160ba6eb"
      },
      "execution_count": 49,
      "outputs": [
        {
          "output_type": "stream",
          "name": "stdout",
          "text": [
            "{'sport': 'Cricket', 'verses': 'Ind vs Pak', 'event': 'Champions Trophy', 'result': 'India Wins', 'man of match': 'Virat Kohali'}\n"
          ]
        }
      ]
    },
    {
      "cell_type": "markdown",
      "source": [
        "**30. Write a code to convert a list of strings into a set.**\n",
        "\n",
        "**Ans:**"
      ],
      "metadata": {
        "id": "myoNVnk9AdLy"
      }
    },
    {
      "cell_type": "code",
      "source": [
        "# list with strings\n",
        "list_str= ['Om','Ajay','Adu','Bijay']\n",
        "\n",
        "# converting list to set\n",
        "con_set= set(list_str)\n",
        "\n",
        "# print the converted set\n",
        "print(con_set)\n",
        "print(type(con_set))\n"
      ],
      "metadata": {
        "colab": {
          "base_uri": "https://localhost:8080/"
        },
        "id": "W5xt6q6FA6-L",
        "outputId": "4da13217-0668-4f3c-9918-09cb9fe03142"
      },
      "execution_count": 52,
      "outputs": [
        {
          "output_type": "stream",
          "name": "stdout",
          "text": [
            "{'Ajay', 'Om', 'Adu', 'Bijay'}\n",
            "<class 'set'>\n"
          ]
        }
      ]
    }
  ]
}